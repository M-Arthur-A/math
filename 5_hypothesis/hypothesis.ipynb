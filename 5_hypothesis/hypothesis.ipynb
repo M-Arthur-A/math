{
 "cells": [
  {
   "cell_type": "code",
   "execution_count": 1,
   "metadata": {},
   "outputs": [],
   "source": [
    "import seaborn as sns\n",
    "import math\n",
    "import numpy as np\n",
    "from scipy.stats import norm, t  # таблица накопленного нормраспределения z\n",
    "sns.set_theme()\n",
    "\n",
    "# стандартные параметры нормального распределения\n",
    "def norm_mu_func(lst): \n",
    "    return sum(lst) / len(lst)\n",
    "\n",
    "def norm_dispersion_func(data):\n",
    "    mean = norm_mu_func(data)\n",
    "    d_sum = 0\n",
    "    for i in data:\n",
    "        d_sum = d_sum + (mean - i)**2\n",
    "    return d_sum / len(data)\n",
    "\n",
    "def norm_sigma_func(data):\n",
    "    return norm_dispersion_func(data)**0.5\n",
    "\n",
    "def norm_dist_graph(data, X=None):\n",
    "    M = norm_mu_func(data)\n",
    "    sigma = norm_sigma_func(data)\n",
    "    y = lambda data: list(map(lambda x: \\\n",
    "               math.e**(-((x-M)**2)/(2*sigma**2)) / (sigma  * (2*math.pi)**0.5), \\\n",
    "               data))\n",
    "    if X:\n",
    "        return y([X])\n",
    "    else:\n",
    "        plt = sns.lineplot(x=data, y=y(data))\n",
    "        plt.axvline(M)\n",
    "        plt.axvline(M-sigma)\n",
    "        plt.axvline(M+sigma)\n",
    "\n",
    "def norm_get_z(to_find, sigma, M):\n",
    "    return (to_find - M) / sigma\n",
    "\n",
    "def norm_z_to_probability(z):\n",
    "    '''\n",
    "    вытащить значение из таблицы накопленного нормального распредееления по z\n",
    "    '''\n",
    "    return norm.cdf(z)\n",
    "\n",
    "\n",
    "# стандартные параметры равномерного распределения\n",
    "def ravn_mu_func(data): \n",
    "    return (max(data)+min(data))/2\n",
    "\n",
    "def ravn_dispersion_func(data):\n",
    "    return (max(data)-min(data))**2 / 12\n",
    "\n",
    "def ravn_sigma_func(data):\n",
    "    return ravn_dispersion_func(data)**0.5\n",
    "\n",
    "def ravn_dist_graph(data, X=None):\n",
    "    M = ravn_mu_func(data)\n",
    "    sigma = ravn_sigma_func(data)\n",
    "    a = min(data)\n",
    "    b = max(data)\n",
    "    y = lambda data: list(map(lambda x: \\\n",
    "                              (x-a) / (b-a), \\\n",
    "                              data))\n",
    "    for ind, i in enumerate(y(data)):\n",
    "        if i < 0:\n",
    "            y[ind] = 0\n",
    "        if i > 1:\n",
    "            y[ind] = 1\n",
    "    if X:\n",
    "        return y([X])\n",
    "    else:\n",
    "        return sns.lineplot(x=x, y=y(x))"
   ]
  },
  {
   "cell_type": "code",
   "execution_count": 2,
   "metadata": {},
   "outputs": [],
   "source": [
    "def z_criteriy(M, a, sigma, n):\n",
    "    Z = -norm.ppf(a / 2)\n",
    "    interval = Z * (sigma / n**0.5)\n",
    "    return [M - interval, M + interval]\n",
    "\n",
    "\n",
    "def t_criteriy(data, M, a, n):\n",
    "    '''критерий-стьюдента'''\n",
    "    T = -t.ppf(a / 2, df=n-1)\n",
    "    sigma = np.std(data, ddof=1) # несмещенная сигма (n-1)\n",
    "    interval = T * (sigma / n**0.5)\n",
    "    return [M - interval, M + interval]"
   ]
  },
  {
   "cell_type": "markdown",
   "metadata": {},
   "source": [
    "# (1)\n",
    "## Известно, что генеральная совокупность распределена нормально со средним квадратическим отклонением, равным 16. \n",
    "## Найти доверительный интервал для оценки математического ожидания a с надежностью 0.95, если выборочная средняя M = 80, а объем выборки n = 256.\n",
    "*решать через доверительный интервал*"
   ]
  },
  {
   "cell_type": "code",
   "execution_count": 3,
   "metadata": {},
   "outputs": [],
   "source": [
    "sigma = 16\n",
    "alfa  = 1 - 0.95\n",
    "M     = 80\n",
    "n     = 256"
   ]
  },
  {
   "cell_type": "code",
   "execution_count": 4,
   "metadata": {},
   "outputs": [
    {
     "data": {
      "text/plain": [
       "'С 95% вероятностью матожидание находится в интервале [78.04003601545995, 81.95996398454005]'"
      ]
     },
     "execution_count": 4,
     "metadata": {},
     "output_type": "execute_result"
    }
   ],
   "source": [
    "# так как ср.кв.откл. известно, то для расчета будем использовать z-критерий\n",
    "f'С 95% вероятностью матожидание находится в интервале {z_criteriy(M, alfa, sigma, n)}'"
   ]
  },
  {
   "cell_type": "markdown",
   "metadata": {},
   "source": [
    "# (2)\n",
    "## В результате 10 независимых измерений некоторой величины X, выполненных с одинаковой точностью, получены опытные данные: 6.9, 6.1, 6.2, 6.8, 7.5, 6.3, 6.4, 6.9, 6.7, 6.1 \n",
    "## Предполагая, что результаты измерений подчинены нормальному закону распределения вероятностей, оценить истинное значение величины X при помощи доверительного интервала, покрывающего это значение с доверительной вероятностью 0,95.\n",
    "*решать через доверительный интервал*"
   ]
  },
  {
   "cell_type": "code",
   "execution_count": 5,
   "metadata": {},
   "outputs": [],
   "source": [
    "x = [6.9, 6.1, 6.2, 6.8, 7.5, 6.3, 6.4, 6.9, 6.7, 6.1]\n",
    "alfa  = 1 - 0.95"
   ]
  },
  {
   "cell_type": "code",
   "execution_count": 6,
   "metadata": {},
   "outputs": [
    {
     "data": {
      "text/plain": [
       "'С 95% вероятностью матожидание находится в интервале [6.267515851415712, 6.912484148584286]'"
      ]
     },
     "execution_count": 6,
     "metadata": {},
     "output_type": "execute_result"
    }
   ],
   "source": [
    "# так как ср.кв.откл. НЕ известно, то для расчета будем использовать student-критерий\n",
    "M = norm_mu_func(x)\n",
    "n = len(x)\n",
    "f'С 95% вероятностью матожидание находится в интервале {t_criteriy(x, M, alfa, n)}'"
   ]
  },
  {
   "cell_type": "markdown",
   "metadata": {},
   "source": [
    "# (3)\n",
    "## Утверждается, что шарики для подшипников, изготовленные автоматическим станком, имеют средний диаметр 17 мм.\n",
    "## Используя односторонний критерий с α=0,05, проверить эту гипотезу, если в выборке из n=100 шариков средний диаметр оказался равным 17.5 мм, а дисперсия известна и равна 4 кв.мм.\n",
    "*решать через тестирование гипотезы*"
   ]
  },
  {
   "cell_type": "code",
   "execution_count": 7,
   "metadata": {},
   "outputs": [],
   "source": [
    "m_0 = 17\n",
    "alfa = 0.05\n",
    "n = 100\n",
    "m_1 = 17.5\n",
    "D = 4"
   ]
  },
  {
   "cell_type": "code",
   "execution_count": 8,
   "metadata": {},
   "outputs": [
    {
     "name": "stdout",
     "output_type": "stream",
     "text": [
      "1.6448536269514722 2.5\n"
     ]
    }
   ],
   "source": [
    "sigma = D**0.5\n",
    "# так как ср.кв.откл. известно, то для расчета будем использовать z-критерий\n",
    "# гипотеза: m_0 < m_1\n",
    "Z_alfa = norm.ppf(1-alfa) # Z на уровне alfa\n",
    "Z_test = (m_1 - m_0) / (sigma/n**0.5)\n",
    "print(Z_alfa, Z_test)"
   ]
  },
  {
   "cell_type": "code",
   "execution_count": 9,
   "metadata": {},
   "outputs": [
    {
     "name": "stdout",
     "output_type": "stream",
     "text": [
      "Z_test > Z_alfa => гипотеза верна при уровне значимости 5.0%. Принимаем 1 гипотезу.\n"
     ]
    }
   ],
   "source": [
    "if Z_test > Z_alfa:\n",
    "    print(f'Z_test > Z_alfa => гипотеза верна при уровне значимости {alfa*100}%. Принимаем 1 гипотезу.')\n",
    "elif Z_test == Z_alfa:\n",
    "    print(f'Z_test = Z_alfa => гипотеза не верна при уровне значимости {alfa*100}%.')\n",
    "else:\n",
    "    print(f'Z_test < Z_alfa => гипотеза не верна при уровне значимости {alfa*100}%.')"
   ]
  },
  {
   "cell_type": "markdown",
   "metadata": {},
   "source": [
    "# (4)\n",
    "## Продавец утверждает, что средний вес пачки печенья составляет 200 г. Из партии извлечена выборка из 10 пачек. Вес каждой пачки составляет: 202, 203, 199, 197, 195, 201, 200, 204, 194, 190. Известно, что их веса распределены нормально. \n",
    "## Верно ли утверждение продавца, если учитывать, что доверительная вероятность равна 99%?\n",
    "*решать через тестирование гипотезы*"
   ]
  },
  {
   "cell_type": "code",
   "execution_count": 10,
   "metadata": {},
   "outputs": [],
   "source": [
    "m_0 = 200\n",
    "n = 10\n",
    "x = [202, 203, 199, 197, 195, 201, 200, 204, 194, 190]\n",
    "alfa = 0.01"
   ]
  },
  {
   "cell_type": "code",
   "execution_count": 11,
   "metadata": {},
   "outputs": [
    {
     "data": {
      "text/plain": [
       "(-3.24983554401537, 3.2498355440153697)"
      ]
     },
     "execution_count": 11,
     "metadata": {},
     "output_type": "execute_result"
    }
   ],
   "source": [
    "# ср.кв.отклонение неизвестно - используем t-критерий\n",
    "# гипотеза: m_0 != m_1\n",
    "m_1 = norm_mu_func(x)\n",
    "T_alfa_right = t.ppf(1 - alfa/2, df=n-1) # правое значение t\n",
    "T_alfa_left  = t.ppf(alfa/2,     df=n-1) # левое  значение t\n",
    "T_alfa_left, T_alfa_right"
   ]
  },
  {
   "cell_type": "code",
   "execution_count": 12,
   "metadata": {},
   "outputs": [
    {
     "data": {
      "text/plain": [
       "-1.1227217828476797"
      ]
     },
     "execution_count": 12,
     "metadata": {},
     "output_type": "execute_result"
    }
   ],
   "source": [
    "sigma = np.std(x)\n",
    "T_test = (m_1 - m_0) / (sigma/n**0.5)\n",
    "T_test"
   ]
  },
  {
   "cell_type": "code",
   "execution_count": 13,
   "metadata": {},
   "outputs": [
    {
     "name": "stdout",
     "output_type": "stream",
     "text": [
      "T_test находится в рамках значений T нормального распределения нулевой гипотезы при уровне значимости 1.0%\n",
      "=> гипотеза неверна (принимаем нулевую гипотезу)\n"
     ]
    }
   ],
   "source": [
    "print('T_test находится в рамках значений T нормального распределения нулевой гипотезы при уровне значимости ' + str(alfa*100) + '%')\n",
    "print('=> гипотеза неверна (принимаем нулевую гипотезу)')"
   ]
  }
 ],
 "metadata": {
  "kernelspec": {
   "display_name": "Python 3",
   "language": "python",
   "name": "python3"
  },
  "language_info": {
   "codemirror_mode": {
    "name": "ipython",
    "version": 3
   },
   "file_extension": ".py",
   "mimetype": "text/x-python",
   "name": "python",
   "nbconvert_exporter": "python",
   "pygments_lexer": "ipython3",
   "version": "3.8.5"
  }
 },
 "nbformat": 4,
 "nbformat_minor": 4
}
