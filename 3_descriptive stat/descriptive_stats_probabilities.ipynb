{
 "cells": [
  {
   "cell_type": "code",
   "execution_count": 1,
   "metadata": {},
   "outputs": [],
   "source": [
    "import numpy as np\n",
    "from math import factorial, e\n",
    "\n",
    "def combinations(n, k):\n",
    "    return int(factorial(n) / (factorial(k) * factorial(n - k)))"
   ]
  },
  {
   "cell_type": "markdown",
   "metadata": {},
   "source": [
    "# 1. Даны значения зарплат из выборки выпускников: \n",
    "## 100, 80, 75, 77, 89, 33, 45, 25, 65, 17, 30, 24, 57, 55, 70, 75, 65, 84, 90, 150. \n",
    "## **Посчитать** для данной выборки:\n",
    "*(желательно без использования статистических методов наподобие std, var, mean)*"
   ]
  },
  {
   "cell_type": "code",
   "execution_count": 2,
   "metadata": {},
   "outputs": [],
   "source": [
    "data = [100, 80, 75, 77, 89, 33, 45, 25, 65, 17, 30, 24, 57, 55, 70, 75, 65, 84, 90, 150]"
   ]
  },
  {
   "cell_type": "markdown",
   "metadata": {},
   "source": [
    "## 1.1 среднее арифметическое, \n"
   ]
  },
  {
   "cell_type": "code",
   "execution_count": 3,
   "metadata": {
    "scrolled": true
   },
   "outputs": [
    {
     "data": {
      "text/plain": [
       "65.3"
      ]
     },
     "execution_count": 3,
     "metadata": {},
     "output_type": "execute_result"
    }
   ],
   "source": [
    "mean = sum(data) / len(data)\n",
    "mean"
   ]
  },
  {
   "cell_type": "markdown",
   "metadata": {},
   "source": [
    "## 1.3 смещенную и несмещенную оценки дисперсий "
   ]
  },
  {
   "cell_type": "code",
   "execution_count": 4,
   "metadata": {},
   "outputs": [
    {
     "data": {
      "text/plain": [
       "950.11"
      ]
     },
     "execution_count": 4,
     "metadata": {},
     "output_type": "execute_result"
    }
   ],
   "source": [
    "d_sum = 0\n",
    "for i in data:\n",
    "    d_sum = d_sum + (mean - i)**2\n",
    "dispersion = d_sum / len(data)\n",
    "dispersion"
   ]
  },
  {
   "cell_type": "code",
   "execution_count": 5,
   "metadata": {},
   "outputs": [
    {
     "data": {
      "text/plain": [
       "1000.1157894736842"
      ]
     },
     "execution_count": 5,
     "metadata": {},
     "output_type": "execute_result"
    }
   ],
   "source": [
    "dispersion_ddof = d_sum / (len(data) - 1)\n",
    "dispersion_ddof"
   ]
  },
  {
   "cell_type": "markdown",
   "metadata": {},
   "source": [
    "## 1.2 среднее квадратичное отклонение, "
   ]
  },
  {
   "cell_type": "code",
   "execution_count": 6,
   "metadata": {},
   "outputs": [
    {
     "data": {
      "text/plain": [
       "30.823854398825596"
      ]
     },
     "execution_count": 6,
     "metadata": {},
     "output_type": "execute_result"
    }
   ],
   "source": [
    "std = dispersion**0.5\n",
    "std"
   ]
  },
  {
   "cell_type": "code",
   "execution_count": 7,
   "metadata": {},
   "outputs": [
    {
     "data": {
      "text/plain": [
       "True"
      ]
     },
     "execution_count": 7,
     "metadata": {},
     "output_type": "execute_result"
    }
   ],
   "source": [
    "# проверка\n",
    "np.std(data) == std"
   ]
  },
  {
   "cell_type": "markdown",
   "metadata": {},
   "source": [
    "# 2. \n",
    "## В первом ящике находится 8 мячей, из которых 5 - белые. \n",
    "## Во втором ящике - 12 мячей, из которых 5 белых. \n",
    "## Из первого ящика вытаскивают случайным образом два мяча, из второго - 4. \n",
    "## **Какова вероятность того, что 3 мяча белые?**\n"
   ]
  },
  {
   "cell_type": "code",
   "execution_count": 8,
   "metadata": {},
   "outputs": [],
   "source": [
    "# возможные варианты:\n",
    "# 1box - 2 box\n",
    "# 2 - 1\n",
    "# 1 - 2\n",
    "# 0 - 3"
   ]
  },
  {
   "cell_type": "code",
   "execution_count": 9,
   "metadata": {},
   "outputs": [
    {
     "data": {
      "text/plain": [
       "0.3686868686868686"
      ]
     },
     "execution_count": 9,
     "metadata": {},
     "output_type": "execute_result"
    }
   ],
   "source": [
    "two_one = combinations(5,2)/combinations(8,2) * \\\n",
    "          combinations(5,1)*combinations(7,3)/combinations(12,4)\n",
    "\n",
    "one_two = combinations(5,1)*combinations(3,1)/combinations(8,2) * \\\n",
    "          combinations(5,2)*combinations(7,2)/combinations(12,4)\n",
    "\n",
    "zer_thr = combinations(3,2)/combinations(8,2) * \\\n",
    "          combinations(5,3)*combinations(7,1)/combinations(12,4)\n",
    "\n",
    "two_one + one_two + zer_thr"
   ]
  },
  {
   "cell_type": "markdown",
   "metadata": {},
   "source": [
    "# 3. На соревновании по биатлону один из трех спортсменов стреляет и попадает в мишень. Вероятность попадания \n",
    "## для первого спортсмена равна 0.9, \n",
    "## для второго — 0.8, \n",
    "## для третьего — 0.6. \n",
    "## Найти вероятность того, что выстрел произведен:\n",
    "## a). первым спортсменом \n",
    "## б). вторым спортсменом \n",
    "## в). третьим спортсменом."
   ]
  },
  {
   "cell_type": "code",
   "execution_count": 10,
   "metadata": {},
   "outputs": [
    {
     "data": {
      "text/plain": [
       "0.7666666666666666"
      ]
     },
     "execution_count": 10,
     "metadata": {},
     "output_type": "execute_result"
    }
   ],
   "source": [
    "# задача на формулу Байеса\n",
    "p_one = 0.9\n",
    "p_two = 0.8\n",
    "p_three = 0.6\n",
    "\n",
    "# расчет общей веереоятности\n",
    "p = 1/3*p_one + 1/3*p_two + 1/3*p_three\n",
    "p"
   ]
  },
  {
   "cell_type": "code",
   "execution_count": 11,
   "metadata": {},
   "outputs": [
    {
     "data": {
      "text/plain": [
       "0.391304347826087"
      ]
     },
     "execution_count": 11,
     "metadata": {},
     "output_type": "execute_result"
    }
   ],
   "source": [
    "# a)\n",
    "1/3*p_one/p"
   ]
  },
  {
   "cell_type": "code",
   "execution_count": 12,
   "metadata": {},
   "outputs": [
    {
     "data": {
      "text/plain": [
       "0.3478260869565218"
      ]
     },
     "execution_count": 12,
     "metadata": {},
     "output_type": "execute_result"
    }
   ],
   "source": [
    "# б)\n",
    "1/3*p_two/p"
   ]
  },
  {
   "cell_type": "code",
   "execution_count": 13,
   "metadata": {},
   "outputs": [
    {
     "data": {
      "text/plain": [
       "0.2608695652173913"
      ]
     },
     "execution_count": 13,
     "metadata": {},
     "output_type": "execute_result"
    }
   ],
   "source": [
    "# в)\n",
    "1/3*p_three/p"
   ]
  },
  {
   "cell_type": "markdown",
   "metadata": {},
   "source": [
    "# 4. В университет на факультеты A и B поступило равное количество студентов, а на факультет C студентов поступило столько же, сколько на A и B вместе. Вероятность того, что студент факультета A сдаст первую сессию, равна 0.8. Для студента факультета B эта вероятность равна 0.7, а для студента факультета C - 0.9. Студент сдал первую сессию. Какова вероятность, что он учится: \n",
    "## a). на факультете A \n",
    "## б). на факультете B \n",
    "## в). на факультете C?"
   ]
  },
  {
   "cell_type": "code",
   "execution_count": 14,
   "metadata": {},
   "outputs": [
    {
     "data": {
      "text/plain": [
       "0.825"
      ]
     },
     "execution_count": 14,
     "metadata": {},
     "output_type": "execute_result"
    }
   ],
   "source": [
    "# задача на формулу Байеса\n",
    "# веса факультетов:\n",
    "A_weight = 1/4\n",
    "B_weight = 1/4\n",
    "C_weight = 2/4\n",
    "A_p = 0.8\n",
    "B_p = 0.7\n",
    "C_p = 0.9\n",
    "p = A_weight*A_p + B_weight*B_p + C_weight*C_p\n",
    "p"
   ]
  },
  {
   "cell_type": "code",
   "execution_count": 15,
   "metadata": {},
   "outputs": [
    {
     "data": {
      "text/plain": [
       "0.24242424242424246"
      ]
     },
     "execution_count": 15,
     "metadata": {},
     "output_type": "execute_result"
    }
   ],
   "source": [
    "# a)\n",
    "A_weight*A_p/p"
   ]
  },
  {
   "cell_type": "code",
   "execution_count": 16,
   "metadata": {},
   "outputs": [
    {
     "data": {
      "text/plain": [
       "0.21212121212121213"
      ]
     },
     "execution_count": 16,
     "metadata": {},
     "output_type": "execute_result"
    }
   ],
   "source": [
    "# б)\n",
    "B_weight*B_p/p"
   ]
  },
  {
   "cell_type": "code",
   "execution_count": 17,
   "metadata": {},
   "outputs": [
    {
     "data": {
      "text/plain": [
       "0.5454545454545455"
      ]
     },
     "execution_count": 17,
     "metadata": {},
     "output_type": "execute_result"
    }
   ],
   "source": [
    "# в)\n",
    "C_weight*C_p/p"
   ]
  },
  {
   "cell_type": "markdown",
   "metadata": {},
   "source": [
    "# 5. Устройство состоит из трех деталей. Для первой детали вероятность выйти из строя в первый месяц равна 0.1, для второй - 0.2, для третьей - 0.25. Какова вероятность того, что в первый месяц выйдут из строя: \n",
    "## а). все детали \n",
    "## б). две детали \n",
    "## в). хотя бы одна деталь \n",
    "## г). от одной до двух деталей?"
   ]
  },
  {
   "cell_type": "code",
   "execution_count": 18,
   "metadata": {},
   "outputs": [],
   "source": [
    "p_one = 0.1\n",
    "p_two = 0.2\n",
    "p_thr = 0.25"
   ]
  },
  {
   "cell_type": "code",
   "execution_count": 19,
   "metadata": {},
   "outputs": [
    {
     "data": {
      "text/plain": [
       "0.005000000000000001"
      ]
     },
     "execution_count": 19,
     "metadata": {},
     "output_type": "execute_result"
    }
   ],
   "source": [
    "# а) все детали\n",
    "p_all = p_one*p_two*p_thr\n",
    "p_all"
   ]
  },
  {
   "cell_type": "code",
   "execution_count": 20,
   "metadata": {},
   "outputs": [
    {
     "data": {
      "text/plain": [
       "0.08000000000000002"
      ]
     },
     "execution_count": 20,
     "metadata": {},
     "output_type": "execute_result"
    }
   ],
   "source": [
    "# б) две детали\n",
    "# 1-2\n",
    "one_two = p_one*p_two*(1-p_thr)\n",
    "# 1-3\n",
    "one_thr = p_one*(1-p_two)*p_thr\n",
    "# 2-3\n",
    "two_thr = (1-p_one)*p_two*p_thr\n",
    "\n",
    "two = one_two + one_thr + two_thr\n",
    "two"
   ]
  },
  {
   "cell_type": "code",
   "execution_count": 21,
   "metadata": {},
   "outputs": [
    {
     "data": {
      "text/plain": [
       "0.45999999999999996"
      ]
     },
     "execution_count": 21,
     "metadata": {},
     "output_type": "execute_result"
    }
   ],
   "source": [
    "# в) хотя бы одна деталь (проще от обратного)\n",
    "one_more = 1 - (1-p_one)*(1-p_two)*(1-p_thr)\n",
    "one_more"
   ]
  },
  {
   "cell_type": "code",
   "execution_count": 22,
   "metadata": {},
   "outputs": [
    {
     "data": {
      "text/plain": [
       "0.455"
      ]
     },
     "execution_count": 22,
     "metadata": {},
     "output_type": "execute_result"
    }
   ],
   "source": [
    "# г) от одной до двух деталей\n",
    "one = p_one*(1-p_two)*(1-p_thr) + (1-p_one)*p_two*(1-p_thr) + (1-p_one)*(1-p_two)*p_thr\n",
    "one_or_two = one + two\n",
    "one_or_two"
   ]
  }
 ],
 "metadata": {
  "kernelspec": {
   "display_name": "Python 3",
   "language": "python",
   "name": "python3"
  },
  "language_info": {
   "codemirror_mode": {
    "name": "ipython",
    "version": 3
   },
   "file_extension": ".py",
   "mimetype": "text/x-python",
   "name": "python",
   "nbconvert_exporter": "python",
   "pygments_lexer": "ipython3",
   "version": "3.8.5"
  }
 },
 "nbformat": 4,
 "nbformat_minor": 4
}
