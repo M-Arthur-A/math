{
 "cells": [
  {
   "cell_type": "code",
   "execution_count": 1,
   "metadata": {},
   "outputs": [],
   "source": [
    "import seaborn as sns\n",
    "import math\n",
    "import numpy as np\n",
    "from scipy.stats import norm  # таблица накопленного нормраспределения z\n",
    "sns.set_theme()"
   ]
  },
  {
   "cell_type": "markdown",
   "metadata": {},
   "source": [
    "Функция нормального распределения  \n",
    "$f(x) = \\dfrac{1}{\\sigma\\sqrt[2]{2\\pi}}e^{-\\dfrac{(x-\\mu)^2}{2\\sigma^2}}$ "
   ]
  },
  {
   "cell_type": "code",
   "execution_count": 2,
   "metadata": {},
   "outputs": [],
   "source": [
    "# стандартные параметры нормального распределения\n",
    "def norm_mu_func(lst): \n",
    "    return sum(lst) / len(lst)\n",
    "\n",
    "def norm_dispersion_func(data):\n",
    "    mean = norm_mu_func(data)\n",
    "    d_sum = 0\n",
    "    for i in data:\n",
    "        d_sum = d_sum + (mean - i)**2\n",
    "    return d_sum / len(data)\n",
    "\n",
    "def norm_sigma_func(data):\n",
    "    return norm_dispersion_func(data)**0.5\n",
    "\n",
    "def norm_dist_graph(data, X=None):\n",
    "    M = norm_mu_func(data)\n",
    "    sigma = norm_sigma_func(data)\n",
    "    y = lambda data: list(map(lambda x: \\\n",
    "               math.e**(-((x-M)**2)/(2*sigma**2)) / (sigma  * (2*math.pi)**0.5), \\\n",
    "               data))\n",
    "    if X:\n",
    "        return y([X])\n",
    "    else:\n",
    "        plt = sns.lineplot(x=data, y=y(data))\n",
    "        plt.axvline(M)\n",
    "        plt.axvline(M-sigma)\n",
    "        plt.axvline(M+sigma)\n",
    "\n",
    "def norm_get_z(to_find, sigma, M):\n",
    "    return (to_find - M) / sigma\n",
    "\n",
    "def norm_z_to_probability(z):\n",
    "    '''\n",
    "    вытащить значение из таблицы накопленного нормального распредееления по z\n",
    "    '''\n",
    "    return norm.cdf(z)"
   ]
  },
  {
   "cell_type": "markdown",
   "metadata": {},
   "source": [
    "Функция равномерного распределения\n",
    "<img src=\"https://wikimedia.org/api/rest_v1/media/math/render/svg/f4e45a7493722bad342c64c9a133e5979f11d05c\">"
   ]
  },
  {
   "cell_type": "code",
   "execution_count": 3,
   "metadata": {},
   "outputs": [],
   "source": [
    "# стандартные параметры равномерного распределения\n",
    "def ravn_mu_func(data): \n",
    "    return (max(data)+min(data))/2\n",
    "\n",
    "def ravn_dispersion_func(data):\n",
    "    return (max(data)-min(data))**2 / 12\n",
    "\n",
    "def ravn_sigma_func(data):\n",
    "    return ravn_dispersion_func(data)**0.5\n",
    "\n",
    "def ravn_dist_graph(data, X=None):\n",
    "    M = ravn_mu_func(data)\n",
    "    sigma = ravn_sigma_func(data)\n",
    "    a = min(data)\n",
    "    b = max(data)\n",
    "    y = lambda data: list(map(lambda x: \\\n",
    "                              (x-a) / (b-a), \\\n",
    "                              data))\n",
    "    for ind, i in enumerate(y(data)):\n",
    "        if i < 0:\n",
    "            y[ind] = 0\n",
    "        if i > 1:\n",
    "            y[ind] = 1\n",
    "    if X:\n",
    "        return y([X])\n",
    "    else:\n",
    "        return sns.lineplot(x=x, y=y(x))"
   ]
  },
  {
   "cell_type": "markdown",
   "metadata": {},
   "source": [
    "# (1) Случайная непрерывная величина A имеет равномерное распределение на промежутке (200, 800].\n",
    "### **Найдите ее среднее значение и дисперсию.**"
   ]
  },
  {
   "cell_type": "code",
   "execution_count": 4,
   "metadata": {
    "scrolled": true
   },
   "outputs": [
    {
     "name": "stdout",
     "output_type": "stream",
     "text": [
      "Среднее значение (мат.ожидание): 500.0\n",
      "Дисперсия: 30000.0\n",
      "Ср.кв.отклонение: 173.20508075688772\n"
     ]
    }
   ],
   "source": [
    "x = list(range(200, 801))\n",
    "M = ravn_mu_func(x)\n",
    "D = ravn_dispersion_func(x)\n",
    "sigma = ravn_sigma_func(x)\n",
    "print(f'Среднее значение (мат.ожидание): {M}\\nДисперсия: {D}\\nСр.кв.отклонение: {sigma}')"
   ]
  },
  {
   "cell_type": "code",
   "execution_count": 5,
   "metadata": {},
   "outputs": [
    {
     "data": {
      "text/plain": [
       "<AxesSubplot:>"
      ]
     },
     "execution_count": 5,
     "metadata": {},
     "output_type": "execute_result"
    },
    {
     "data": {
      "image/png": "[encoded data removed]",
      "text/plain": [
       "<Figure size 432x288 with 1 Axes>"
      ]
     },
     "metadata": {},
     "output_type": "display_data"
    }
   ],
   "source": [
    "ravn_dist_graph(x)"
   ]
  },
  {
   "cell_type": "markdown",
   "metadata": {},
   "source": [
    "# (2) О случайной непрерывной равномерно распределенной величине B известно, что ее дисперсия равна 0.2.\n",
    "## **Можно ли найти правую границу величины B и ее среднее значение зная, что левая граница равна 0.5?**\n",
    "Если да, найдите ее."
   ]
  },
  {
   "cell_type": "code",
   "execution_count": 6,
   "metadata": {},
   "outputs": [],
   "source": [
    "a = 0.5  # левая граница\n",
    "D = 0.2  # дисперсия\n",
    "sigma = D**0.5"
   ]
  },
  {
   "cell_type": "markdown",
   "metadata": {},
   "source": [
    "Выводим формулу для расчета b (правой границы) из формулы Дисперсии  \n",
    "$D = \\dfrac{(b-a)^2}{12}$  \n",
    "$\\sqrt[2]{D} = \\dfrac{b-a}{\\sqrt[2]{12}} $  \n",
    "$\\sqrt[2]{12D} = b-a$  \n",
    "$b = \\sqrt[2]{12D} + a$"
   ]
  },
  {
   "cell_type": "code",
   "execution_count": 7,
   "metadata": {},
   "outputs": [
    {
     "data": {
      "text/plain": [
       "2.049193338482967"
      ]
     },
     "execution_count": 7,
     "metadata": {},
     "output_type": "execute_result"
    }
   ],
   "source": [
    "b = (12*D)**0.5 + a  # правая граница\n",
    "b"
   ]
  },
  {
   "cell_type": "code",
   "execution_count": 8,
   "metadata": {},
   "outputs": [
    {
     "data": {
      "text/plain": [
       "1.2745966692414834"
      ]
     },
     "execution_count": 8,
     "metadata": {},
     "output_type": "execute_result"
    }
   ],
   "source": [
    "mu = (a+b) / 2 # мат.ожидание (среднее)\n",
    "mu"
   ]
  },
  {
   "cell_type": "markdown",
   "metadata": {},
   "source": [
    "# (3) Непрерывная случайная величина X распределена нормально и задана плотностью распределения\n",
    "f(x) = (1 / (4 \\* sqrt(2\\*pi))) \\* (exp(-(x+2)\\*\\*2) / 32).\n",
    "## Найдите:\n",
    "## а). M(X)\n",
    "## б). D(X)\n",
    "## в). std(X) (среднее квадратичное отклонение)"
   ]
  },
  {
   "cell_type": "code",
   "execution_count": 9,
   "metadata": {},
   "outputs": [
    {
     "name": "stdout",
     "output_type": "stream",
     "text": [
      "Среднее значение (мат.ожидание): -2\n",
      "Дисперсия: 16.0\n",
      "Ср.кв.отклонение: 4\n"
     ]
    }
   ],
   "source": [
    "# исходя из значений, подставлеенных в формулу\n",
    "sigma = 4\n",
    "D = 32 / 2  # или 4**2\n",
    "M = -2  # в формуле x-2, а здесь +2\n",
    "print(f'Среднее значение (мат.ожидание): {M}\\nДисперсия: {D}\\nСр.кв.отклонение: {sigma}')"
   ]
  },
  {
   "cell_type": "markdown",
   "metadata": {},
   "source": [
    "# (4) Рост взрослого населения города X имеет нормальное распределение.\n",
    "## Причем, средний рост равен 174 см, а среднее квадратичное отклонение равно 8 см.\n",
    "## Какова вероятность того, что случайным образом выбранный взрослый человек имеет рост:\n",
    "## а). больше 182 см\n",
    "## б). больше 190 см\n",
    "## в). от 166 см до 190 см\n",
    "## г). от 166 см до 182 см\n",
    "## д). от 158 см до 190 см\n",
    "## е). не выше 150 см или не ниже 190 см\n",
    "## ё). не выше 150 см или не ниже 198 см\n",
    "## ж). ниже 166 см."
   ]
  },
  {
   "cell_type": "code",
   "execution_count": 10,
   "metadata": {},
   "outputs": [],
   "source": [
    "M = 174\n",
    "sigma = 8\n",
    "D = 8 ^ 2"
   ]
  },
  {
   "cell_type": "code",
   "execution_count": 11,
   "metadata": {
    "scrolled": true
   },
   "outputs": [
    {
     "data": {
      "text/plain": [
       "(174.0, None)"
      ]
     },
     "execution_count": 11,
     "metadata": {},
     "output_type": "execute_result"
    },
    {
     "data": {
      "image/png": "[encoded data removed]",
      "text/plain": [
       "<Figure size 432x288 with 1 Axes>"
      ]
     },
     "metadata": {},
     "output_type": "display_data"
    }
   ],
   "source": [
    "# примерное похожее распределение для понимания\n",
    "norm_mu_func([150,198]), norm_dist_graph(list(range(150,198)))"
   ]
  },
  {
   "cell_type": "code",
   "execution_count": 12,
   "metadata": {},
   "outputs": [
    {
     "data": {
      "text/plain": [
       "0.15865525393145707"
      ]
     },
     "execution_count": 12,
     "metadata": {},
     "output_type": "execute_result"
    }
   ],
   "source": [
    "# а). больше 182 см\n",
    "to_find = 182\n",
    "z = norm_get_z(to_find, sigma, M)\n",
    "P_z_less = norm_z_to_probability(z)  # столько % приходится на людей с ростом менее 182\n",
    "P_z_more182 = 1-P_z_less  # столько % приходится на людей с ростом выше 182\n",
    "P_z_more182"
   ]
  },
  {
   "cell_type": "code",
   "execution_count": 13,
   "metadata": {},
   "outputs": [
    {
     "data": {
      "text/plain": [
       "0.02275013194817921"
      ]
     },
     "execution_count": 13,
     "metadata": {},
     "output_type": "execute_result"
    }
   ],
   "source": [
    "# б). больше 190 см.\n",
    "to_find = 190\n",
    "z = norm_get_z(to_find, sigma, M)\n",
    "P_z_less = norm_z_to_probability(z)\n",
    "P_z_more190 = 1-P_z_less\n",
    "P_z_more190"
   ]
  },
  {
   "cell_type": "code",
   "execution_count": 14,
   "metadata": {},
   "outputs": [
    {
     "data": {
      "text/plain": [
       "0.8697054828631912"
      ]
     },
     "execution_count": 14,
     "metadata": {},
     "output_type": "execute_result"
    }
   ],
   "source": [
    "# в). от 166 см до 190 см\n",
    "to_find = 165\n",
    "z = norm_get_z(to_find, sigma, M)\n",
    "P_z_less = norm_z_to_probability(z)\n",
    "P_z_more165 = 1-P_z_less\n",
    "P_z_165_190 = P_z_more165 - P_z_more190\n",
    "P_z_more165"
   ]
  },
  {
   "cell_type": "code",
   "execution_count": 15,
   "metadata": {},
   "outputs": [
    {
     "data": {
      "text/plain": [
       "0.6826894921370859"
      ]
     },
     "execution_count": 15,
     "metadata": {},
     "output_type": "execute_result"
    }
   ],
   "source": [
    "# г). от 166 см до 182 см\n",
    "to_find = 166\n",
    "z = norm_get_z(to_find, sigma, M)\n",
    "P_z_less = norm_z_to_probability(z)\n",
    "P_z_more165 = 1-P_z_less\n",
    "P_z_165_190 = P_z_more165 - P_z_more182\n",
    "P_z_165_190"
   ]
  },
  {
   "cell_type": "code",
   "execution_count": 16,
   "metadata": {},
   "outputs": [
    {
     "data": {
      "text/plain": [
       "0.8413447460685429"
      ]
     },
     "execution_count": 16,
     "metadata": {},
     "output_type": "execute_result"
    }
   ],
   "source": [
    "# д). от 158 см до 190 см\n",
    "to_find = 158\n",
    "z = norm_get_z(to_find, sigma, M)\n",
    "P_z_less = norm_z_to_probability(z)\n",
    "P_z_more158 = 1-P_z_less\n",
    "P_z_158_190 = P_z_more158 - P_z_more190\n",
    "P_z_more165"
   ]
  },
  {
   "cell_type": "code",
   "execution_count": 17,
   "metadata": {},
   "outputs": [
    {
     "data": {
      "text/plain": [
       "0.02275013194817921"
      ]
     },
     "execution_count": 17,
     "metadata": {},
     "output_type": "execute_result"
    }
   ],
   "source": [
    "# е). не выше 150 см или не ниже 190 см\n",
    "to_find = 150\n",
    "z = norm_get_z(to_find, sigma, M)\n",
    "P_z_less150 = norm_z_to_probability(z)\n",
    "P_z_less165_more190 = max(P_z_less150, P_z_more190)\n",
    "P_z_less165_more190"
   ]
  },
  {
   "cell_type": "code",
   "execution_count": 18,
   "metadata": {},
   "outputs": [
    {
     "data": {
      "text/plain": [
       "0.0013498980316301035"
      ]
     },
     "execution_count": 18,
     "metadata": {},
     "output_type": "execute_result"
    }
   ],
   "source": [
    "# ё). не выше 150 см или не ниже 198 см\n",
    "to_find = 198\n",
    "z = norm_get_z(to_find, sigma, M)\n",
    "P_z_less198 = norm_z_to_probability(z)\n",
    "P_z_more198 = 1 - P_z_less198\n",
    "P_z_less150_more198 = max(P_z_less150, P_z_more198)\n",
    "P_z_less150_more198"
   ]
  },
  {
   "cell_type": "code",
   "execution_count": 19,
   "metadata": {},
   "outputs": [
    {
     "data": {
      "text/plain": [
       "0.15865525393145707"
      ]
     },
     "execution_count": 19,
     "metadata": {},
     "output_type": "execute_result"
    }
   ],
   "source": [
    "# ж). ниже 166 см.\n",
    "to_find = 166\n",
    "z = norm_get_z(to_find, sigma, M)\n",
    "P_z_less166 = norm_z_to_probability(z)\n",
    "P_z_less166"
   ]
  },
  {
   "cell_type": "markdown",
   "metadata": {},
   "source": [
    "# (5) На сколько сигм (средних квадратичных отклонений) отклоняется рост человека, равный 190 см, от математического ожидания роста в популяции, в которой M(X) = 178 см и D(X) = 25 кв.см?"
   ]
  },
  {
   "cell_type": "code",
   "execution_count": 20,
   "metadata": {},
   "outputs": [],
   "source": [
    "M = 178\n",
    "D = 25\n",
    "sigma = 25**0.5\n",
    "x = 190"
   ]
  },
  {
   "cell_type": "code",
   "execution_count": 21,
   "metadata": {},
   "outputs": [
    {
     "data": {
      "text/plain": [
       "2.4"
      ]
     },
     "execution_count": 21,
     "metadata": {},
     "output_type": "execute_result"
    }
   ],
   "source": [
    "(x - M) / sigma"
   ]
  }
 ],
 "metadata": {
  "kernelspec": {
   "display_name": "Python 3",
   "language": "python",
   "name": "python3"
  },
  "language_info": {
   "codemirror_mode": {
    "name": "ipython",
    "version": 3
   },
   "file_extension": ".py",
   "mimetype": "text/x-python",
   "name": "python",
   "nbconvert_exporter": "python",
   "pygments_lexer": "ipython3",
   "version": "3.8.5"
  }
 },
 "nbformat": 4,
 "nbformat_minor": 4
}
