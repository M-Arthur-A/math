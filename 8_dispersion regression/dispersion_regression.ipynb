{
 "cells": [
  {
   "cell_type": "code",
   "execution_count": 1,
   "metadata": {},
   "outputs": [],
   "source": [
    "import numpy as np\n",
    "from scipy import stats\n",
    "import matplotlib.pyplot as plt\n",
    "import seaborn as sns\n",
    "sns.set_theme()"
   ]
  },
  {
   "cell_type": "markdown",
   "metadata": {},
   "source": [
    "# (1)\n",
    "Даны значения роста в трех группах случайно выбранных спортсменов:  \n",
    "Футболисты: 173, 175, 180, 178, 177, 185, 183, 182.  \n",
    "Хоккеисты: 177, 179, 180, 188, 177, 172, 171, 184, 180.  \n",
    "Штангисты: 172, 173, 169, 177, 166, 180, 178, 177, 172, 166, 170.  \n",
    "##### Провести дисперсионный анализ для определения того, есть ли различия среднего роста среди взрослых футболистов, хоккеистов и штангистов."
   ]
  },
  {
   "cell_type": "code",
   "execution_count": 2,
   "metadata": {},
   "outputs": [],
   "source": [
    "f = [173, 175, 180, 178, 177, 185, 183, 182]\n",
    "h = [177, 179, 180, 188, 177, 172, 171, 184, 180]\n",
    "s = [172, 173, 169, 177, 166, 180, 178, 177, 172, 166, 170]"
   ]
  },
  {
   "cell_type": "code",
   "execution_count": 3,
   "metadata": {},
   "outputs": [
    {
     "data": {
      "image/png": "[encoded data removed]",
      "text/plain": [
       "<Figure size 432x288 with 1 Axes>"
      ]
     },
     "metadata": {},
     "output_type": "display_data"
    }
   ],
   "source": [
    "plt.scatter(f, ['Футболисты']*len(f))\n",
    "plt.scatter(h, ['Хоккеисты']*len(h))\n",
    "plt.scatter(s, ['Штангисты']*len(s))\n",
    "plt.show()"
   ]
  },
  {
   "cell_type": "code",
   "execution_count": 4,
   "metadata": {},
   "outputs": [
    {
     "data": {
      "text/plain": [
       "F_onewayResult(statistic=5.500053450812596, pvalue=0.010482206918698694)"
      ]
     },
     "execution_count": 4,
     "metadata": {},
     "output_type": "execute_result"
    }
   ],
   "source": [
    "# дисперсионная регрессия отвечает на вопрос \"есть ли зависимость\"\n",
    "stats.f_oneway(f,h,s)"
   ]
  },
  {
   "cell_type": "markdown",
   "metadata": {},
   "source": [
    "##### Вывод\n",
    "Так как значение pvalue получено минимальное (pvalue=0.1% - по критерию Фишера лежит далеко в правой части распределения - практически независимо от выбранного alpha), следовательно, можно сделать **вывод о наличии зависимости роста и вида спорта**."
   ]
  },
  {
   "cell_type": "markdown",
   "metadata": {},
   "source": [
    "***\n",
    "***\n",
    "***"
   ]
  },
  {
   "cell_type": "code",
   "execution_count": 5,
   "metadata": {},
   "outputs": [],
   "source": [
    "# решение без scipy\n",
    "f = np.array(f)\n",
    "h = np.array(h)\n",
    "s = np.array(s)"
   ]
  },
  {
   "cell_type": "code",
   "execution_count": 6,
   "metadata": {},
   "outputs": [],
   "source": [
    "k = 3  # 3 категории\n",
    "f_n = len(f)\n",
    "h_n = len(h)\n",
    "s_n = len(s)\n",
    "n = f_n + h_n + s_n  # количество наблюдений"
   ]
  },
  {
   "cell_type": "code",
   "execution_count": 7,
   "metadata": {},
   "outputs": [
    {
     "name": "stdout",
     "output_type": "stream",
     "text": [
      "f среднее = 179.125\n",
      "h среднее = 178.66666666666666\n",
      "s среднее = 172.72727272727272\n",
      "общее среднее = 176.46428571428572\n"
     ]
    }
   ],
   "source": [
    "f_mean = f.mean()\n",
    "h_mean = h.mean()\n",
    "s_mean = s.mean()\n",
    "y = np.hstack((f, h, s))\n",
    "y_mean = y.mean()\n",
    "print(f'f среднее = {f_mean}\\nh среднее = {h_mean}\\ns среднее = {s_mean}\\nобщее среднее = {y_mean}')"
   ]
  },
  {
   "cell_type": "markdown",
   "metadata": {},
   "source": [
    "Среднее отличается, значит скорее всего есть взаимосвязь"
   ]
  },
  {
   "cell_type": "code",
   "execution_count": 8,
   "metadata": {},
   "outputs": [
    {
     "data": {
      "text/plain": [
       "830.9642857142854"
      ]
     },
     "execution_count": 8,
     "metadata": {},
     "output_type": "execute_result"
    }
   ],
   "source": [
    "# сумма квадратов отклонений всех наблюдений от общего среднего\n",
    "S = 0  # общая сумма квадратных отклонений (для проверки)\n",
    "for y_i in y:\n",
    "    S += (y_mean - y_i) ** 2\n",
    "S"
   ]
  },
  {
   "cell_type": "code",
   "execution_count": 9,
   "metadata": {},
   "outputs": [
    {
     "data": {
      "text/plain": [
       "253.9074675324678"
      ]
     },
     "execution_count": 9,
     "metadata": {},
     "output_type": "execute_result"
    }
   ],
   "source": [
    "# сумма квадратов отклонений групповых средних наблюдений от общего среднего, \n",
    "# увеличенное на объем выборки\n",
    "Sf = 0  # сумма квадратных отклонений факторное\n",
    "for y_i, y_n in [(f_mean, f_n), (h_mean, h_n), (s_mean, s_n)]:\n",
    "    Sf += ((y_mean - y_i) ** 2) * y_n\n",
    "Sf"
   ]
  },
  {
   "cell_type": "code",
   "execution_count": 10,
   "metadata": {},
   "outputs": [
    {
     "data": {
      "text/plain": [
       "577.0568181818181"
      ]
     },
     "execution_count": 10,
     "metadata": {},
     "output_type": "execute_result"
    }
   ],
   "source": [
    "# отклонение групповых наблюдений от средних по группе\n",
    "Sost = 0  # сумма квадратных отклонений остаточное\n",
    "for y_m, y in [(f_mean, f), (h_mean, h), (s_mean, s)]:\n",
    "    for y_i in y:\n",
    "        Sost += ((y_m - y_i) ** 2)\n",
    "Sost"
   ]
  },
  {
   "cell_type": "code",
   "execution_count": 11,
   "metadata": {},
   "outputs": [
    {
     "name": "stdout",
     "output_type": "stream",
     "text": [
      "Проверка пройдена!\n"
     ]
    }
   ],
   "source": [
    "# проверка: Sостаточное + Sфакторное = Sобщее\n",
    "if round(Sost + Sf, 6) == round(S, 6):\n",
    "    print(\"Проверка пройдена!\")\n",
    "else:\n",
    "    print(\"Проверка не пройдена!!!\")"
   ]
  },
  {
   "cell_type": "code",
   "execution_count": 12,
   "metadata": {},
   "outputs": [
    {
     "name": "stdout",
     "output_type": "stream",
     "text": [
      "Факторная дисперсия  = 126.9537337662339\n",
      "Остаточная дисперсия = 23.082272727272724\n"
     ]
    }
   ],
   "source": [
    "# Факторная дисперсия\n",
    "Df = Sf / (k-1)  # где k - количество категорий\n",
    "\n",
    "# Остаточная дисперсия\n",
    "Do = Sost / (n-k)  # где n - количество наблюдений\n",
    "\n",
    "print(f'Факторная дисперсия  = {Df}\\nОстаточная дисперсия = {Do}')"
   ]
  },
  {
   "cell_type": "code",
   "execution_count": 13,
   "metadata": {},
   "outputs": [
    {
     "name": "stdout",
     "output_type": "stream",
     "text": [
      "Критерий Фишера (наблюдаемый) = 5.500053450812599\n"
     ]
    }
   ],
   "source": [
    "# Отношение факторной дисперсии к остаточной -- критерий Фишера (расчетное значение)\n",
    "F = Df / Do\n",
    "print(f'Критерий Фишера (наблюдаемый) = {F}')"
   ]
  },
  {
   "cell_type": "code",
   "execution_count": 14,
   "metadata": {},
   "outputs": [
    {
     "data": {
      "text/plain": [
       "3.3851899614491687"
      ]
     },
     "execution_count": 14,
     "metadata": {},
     "output_type": "execute_result"
    }
   ],
   "source": [
    "# Критерий Фишера (критическое значение) для 2 степеней свободы (k-1 и n-k) и alpha = 5%\n",
    "Fcrit = stats.f.ppf(0.95, k-1, n-k)\n",
    "Fcrit  # оно же табличное"
   ]
  },
  {
   "cell_type": "code",
   "execution_count": 15,
   "metadata": {},
   "outputs": [
    {
     "name": "stdout",
     "output_type": "stream",
     "text": [
      "Различие между группами статистически значимое.\n"
     ]
    }
   ],
   "source": [
    "if F > Fcrit:\n",
    "    print('Различие между группами статистически значимое.')\n",
    "else:\n",
    "    print('Различие между группами статистически НЕ значимое!')"
   ]
  }
 ],
 "metadata": {
  "kernelspec": {
   "display_name": "Python 3",
   "language": "python",
   "name": "python3"
  },
  "language_info": {
   "codemirror_mode": {
    "name": "ipython",
    "version": 3
   },
   "file_extension": ".py",
   "mimetype": "text/x-python",
   "name": "python",
   "nbconvert_exporter": "python",
   "pygments_lexer": "ipython3",
   "version": "3.8.5"
  }
 },
 "nbformat": 4,
 "nbformat_minor": 4
}
