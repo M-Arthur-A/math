{
 "cells": [
  {
   "cell_type": "code",
   "execution_count": 1,
   "metadata": {},
   "outputs": [],
   "source": [
    "import numpy as np\n",
    "import pandas as pd\n",
    "import matplotlib.pyplot as plt\n",
    "import seaborn as sns\n",
    "sns.set_theme()\n",
    "pd.set_option('display.float_format', '{:.4f}'.format)"
   ]
  },
  {
   "cell_type": "markdown",
   "metadata": {},
   "source": [
    "Даны значения величины заработной платы заемщиков банка (zp) и значения их поведенческого кредитного скоринга (ks):  \n",
    "zp = [35, 45, 190, 200, 40, 70, 54, 150, 120, 110]  \n",
    "ks = [401, 574, 874, 919, 459, 739, 653, 902, 746, 832]  \n",
    "В рамках расчетов принять:\n",
    "* за X заработную плату (то есть, zp - признак),\n",
    "* за y - значения скорингового балла (то есть, ks - целевая переменная).  \n",
    "\n",
    "### Используя математические операции, посчитать коэффициенты линейной регрессии.\n",
    "#### 1. Произвести расчет:\n",
    "##### &nbsp;&nbsp;&nbsp;&nbsp;&nbsp;1.1 с использованием intercept\n",
    "##### &nbsp;&nbsp;&nbsp;&nbsp;&nbsp;1.1 без использования intercept"
   ]
  },
  {
   "cell_type": "code",
   "execution_count": 2,
   "metadata": {},
   "outputs": [
    {
     "data": {
      "text/html": [
       "<div>\n",
       "<style scoped>\n",
       "    .dataframe tbody tr th:only-of-type {\n",
       "        vertical-align: middle;\n",
       "    }\n",
       "\n",
       "    .dataframe tbody tr th {\n",
       "        vertical-align: top;\n",
       "    }\n",
       "\n",
       "    .dataframe thead th {\n",
       "        text-align: right;\n",
       "    }\n",
       "</style>\n",
       "<table border=\"1\" class=\"dataframe\">\n",
       "  <thead>\n",
       "    <tr style=\"text-align: right;\">\n",
       "      <th></th>\n",
       "      <th>Зарплата</th>\n",
       "      <th>Кредитный рейтинг</th>\n",
       "    </tr>\n",
       "  </thead>\n",
       "  <tbody>\n",
       "    <tr>\n",
       "      <th>0</th>\n",
       "      <td>35</td>\n",
       "      <td>401</td>\n",
       "    </tr>\n",
       "    <tr>\n",
       "      <th>1</th>\n",
       "      <td>45</td>\n",
       "      <td>574</td>\n",
       "    </tr>\n",
       "    <tr>\n",
       "      <th>2</th>\n",
       "      <td>190</td>\n",
       "      <td>874</td>\n",
       "    </tr>\n",
       "    <tr>\n",
       "      <th>3</th>\n",
       "      <td>200</td>\n",
       "      <td>919</td>\n",
       "    </tr>\n",
       "    <tr>\n",
       "      <th>4</th>\n",
       "      <td>40</td>\n",
       "      <td>459</td>\n",
       "    </tr>\n",
       "    <tr>\n",
       "      <th>5</th>\n",
       "      <td>70</td>\n",
       "      <td>739</td>\n",
       "    </tr>\n",
       "    <tr>\n",
       "      <th>6</th>\n",
       "      <td>54</td>\n",
       "      <td>653</td>\n",
       "    </tr>\n",
       "    <tr>\n",
       "      <th>7</th>\n",
       "      <td>150</td>\n",
       "      <td>902</td>\n",
       "    </tr>\n",
       "    <tr>\n",
       "      <th>8</th>\n",
       "      <td>120</td>\n",
       "      <td>746</td>\n",
       "    </tr>\n",
       "    <tr>\n",
       "      <th>9</th>\n",
       "      <td>110</td>\n",
       "      <td>832</td>\n",
       "    </tr>\n",
       "  </tbody>\n",
       "</table>\n",
       "</div>"
      ],
      "text/plain": [
       "   Зарплата  Кредитный рейтинг\n",
       "0        35                401\n",
       "1        45                574\n",
       "2       190                874\n",
       "3       200                919\n",
       "4        40                459\n",
       "5        70                739\n",
       "6        54                653\n",
       "7       150                902\n",
       "8       120                746\n",
       "9       110                832"
      ]
     },
     "execution_count": 2,
     "metadata": {},
     "output_type": "execute_result"
    }
   ],
   "source": [
    "zp = [35, 45, 190, 200, 40, 70, 54, 150, 120, 110]\n",
    "ks = [401, 574, 874, 919, 459, 739, 653, 902, 746, 832]\n",
    "df = pd.DataFrame.from_dict(dict(zip(zp, ks)), orient='index')\n",
    "df = df.reset_index()\n",
    "df.columns  = ['Зарплата', 'Кредитный рейтинг']\n",
    "x = 'Зарплата'\n",
    "y = 'Кредитный рейтинг'\n",
    "df"
   ]
  },
  {
   "cell_type": "code",
   "execution_count": 3,
   "metadata": {},
   "outputs": [
    {
     "data": {
      "image/png": "[encoded data removed]",
      "text/plain": [
       "<Figure size 432x288 with 1 Axes>"
      ]
     },
     "metadata": {},
     "output_type": "display_data"
    }
   ],
   "source": [
    "plt.scatter(zp, ks)\n",
    "plt.show()"
   ]
  },
  {
   "cell_type": "markdown",
   "metadata": {},
   "source": [
    "Вообще разброс точек больше похож на y = √a*x  \n",
    "<img src=\"http://mathematichka.ru/school/functions/gr0.png\">  \n",
    "Но согласно задаче решаем через прямую $$y = a + bx$$"
   ]
  },
  {
   "cell_type": "markdown",
   "metadata": {},
   "source": [
    "***"
   ]
  },
  {
   "cell_type": "code",
   "execution_count": 4,
   "metadata": {},
   "outputs": [],
   "source": [
    "# 1.1. с intercept (a)"
   ]
  },
  {
   "cell_type": "code",
   "execution_count": 5,
   "metadata": {},
   "outputs": [],
   "source": [
    "# нахождение коэффициента b"
   ]
  },
  {
   "cell_type": "markdown",
   "metadata": {},
   "source": [
    "$$b = \\frac{\\overline{yx} - \\overline{y} \\cdot {\\overline{x}}}{\\overline{x^2} - (\\overline{x})^2};$$"
   ]
  },
  {
   "cell_type": "code",
   "execution_count": 6,
   "metadata": {},
   "outputs": [
    {
     "data": {
      "text/plain": [
       "2.620538882402765"
      ]
     },
     "execution_count": 6,
     "metadata": {},
     "output_type": "execute_result"
    }
   ],
   "source": [
    "b = ((df[x]*df[y]).mean() - df[x].mean() * df[y].mean()) / \\\n",
    "    ((df[x]**2).mean() - df[x].mean()**2)\n",
    "b"
   ]
  },
  {
   "cell_type": "code",
   "execution_count": 7,
   "metadata": {},
   "outputs": [],
   "source": [
    "# нахождение коэффициента a"
   ]
  },
  {
   "cell_type": "markdown",
   "metadata": {},
   "source": [
    "$$a = \\overline{y} - b \\cdot {\\overline{x}}.$$"
   ]
  },
  {
   "cell_type": "code",
   "execution_count": 8,
   "metadata": {},
   "outputs": [
    {
     "data": {
      "text/plain": [
       "444.1773573243596"
      ]
     },
     "execution_count": 8,
     "metadata": {},
     "output_type": "execute_result"
    }
   ],
   "source": [
    "a = df[y].mean() - b * df[x].mean()\n",
    "a"
   ]
  },
  {
   "cell_type": "code",
   "execution_count": 9,
   "metadata": {},
   "outputs": [
    {
     "data": {
      "image/png": "[encoded data removed]",
      "text/plain": [
       "<Figure size 432x288 with 1 Axes>"
      ]
     },
     "metadata": {},
     "output_type": "display_data"
    },
    {
     "data": {
      "text/html": [
       "<div>\n",
       "<style scoped>\n",
       "    .dataframe tbody tr th:only-of-type {\n",
       "        vertical-align: middle;\n",
       "    }\n",
       "\n",
       "    .dataframe tbody tr th {\n",
       "        vertical-align: top;\n",
       "    }\n",
       "\n",
       "    .dataframe thead th {\n",
       "        text-align: right;\n",
       "    }\n",
       "</style>\n",
       "<table border=\"1\" class=\"dataframe\">\n",
       "  <thead>\n",
       "    <tr style=\"text-align: right;\">\n",
       "      <th></th>\n",
       "      <th>Зарплата</th>\n",
       "      <th>Кредитный рейтинг</th>\n",
       "      <th>Кредитный рейтинг_средний</th>\n",
       "    </tr>\n",
       "  </thead>\n",
       "  <tbody>\n",
       "    <tr>\n",
       "      <th>0</th>\n",
       "      <td>35</td>\n",
       "      <td>401</td>\n",
       "      <td>535.8962</td>\n",
       "    </tr>\n",
       "    <tr>\n",
       "      <th>1</th>\n",
       "      <td>45</td>\n",
       "      <td>574</td>\n",
       "      <td>562.1016</td>\n",
       "    </tr>\n",
       "    <tr>\n",
       "      <th>2</th>\n",
       "      <td>190</td>\n",
       "      <td>874</td>\n",
       "      <td>942.0797</td>\n",
       "    </tr>\n",
       "    <tr>\n",
       "      <th>3</th>\n",
       "      <td>200</td>\n",
       "      <td>919</td>\n",
       "      <td>968.2851</td>\n",
       "    </tr>\n",
       "    <tr>\n",
       "      <th>4</th>\n",
       "      <td>40</td>\n",
       "      <td>459</td>\n",
       "      <td>548.9989</td>\n",
       "    </tr>\n",
       "    <tr>\n",
       "      <th>5</th>\n",
       "      <td>70</td>\n",
       "      <td>739</td>\n",
       "      <td>627.6151</td>\n",
       "    </tr>\n",
       "    <tr>\n",
       "      <th>6</th>\n",
       "      <td>54</td>\n",
       "      <td>653</td>\n",
       "      <td>585.6865</td>\n",
       "    </tr>\n",
       "    <tr>\n",
       "      <th>7</th>\n",
       "      <td>150</td>\n",
       "      <td>902</td>\n",
       "      <td>837.2582</td>\n",
       "    </tr>\n",
       "    <tr>\n",
       "      <th>8</th>\n",
       "      <td>120</td>\n",
       "      <td>746</td>\n",
       "      <td>758.6420</td>\n",
       "    </tr>\n",
       "    <tr>\n",
       "      <th>9</th>\n",
       "      <td>110</td>\n",
       "      <td>832</td>\n",
       "      <td>732.4366</td>\n",
       "    </tr>\n",
       "  </tbody>\n",
       "</table>\n",
       "</div>"
      ],
      "text/plain": [
       "   Зарплата  Кредитный рейтинг  Кредитный рейтинг_средний\n",
       "0        35                401                   535.8962\n",
       "1        45                574                   562.1016\n",
       "2       190                874                   942.0797\n",
       "3       200                919                   968.2851\n",
       "4        40                459                   548.9989\n",
       "5        70                739                   627.6151\n",
       "6        54                653                   585.6865\n",
       "7       150                902                   837.2582\n",
       "8       120                746                   758.6420\n",
       "9       110                832                   732.4366"
      ]
     },
     "execution_count": 9,
     "metadata": {},
     "output_type": "execute_result"
    }
   ],
   "source": [
    "# результат\n",
    "y_mean = 'Кредитный рейтинг_средний'\n",
    "df[y_mean] = a + b * df[x]\n",
    "\n",
    "plt.scatter(zp, ks)\n",
    "plt.plot(df[x], a + b * df[x])\n",
    "plt.show()\n",
    "df"
   ]
  },
  {
   "cell_type": "markdown",
   "metadata": {},
   "source": [
    "***"
   ]
  },
  {
   "cell_type": "code",
   "execution_count": 10,
   "metadata": {},
   "outputs": [],
   "source": [
    "# # 1.1. без intercept (a) матричным методом"
   ]
  },
  {
   "cell_type": "markdown",
   "metadata": {},
   "source": [
    "$$b = (X^T*X)^{-1}*X^T*Y;$$"
   ]
  },
  {
   "cell_type": "code",
   "execution_count": 11,
   "metadata": {},
   "outputs": [
    {
     "data": {
      "text/plain": [
       "(array([[ 35],\n",
       "        [ 45],\n",
       "        [190],\n",
       "        [200],\n",
       "        [ 40],\n",
       "        [ 70],\n",
       "        [ 54],\n",
       "        [150],\n",
       "        [120],\n",
       "        [110]]),\n",
       " array([[401],\n",
       "        [574],\n",
       "        [874],\n",
       "        [919],\n",
       "        [459],\n",
       "        [739],\n",
       "        [653],\n",
       "        [902],\n",
       "        [746],\n",
       "        [832]]))"
      ]
     },
     "execution_count": 11,
     "metadata": {},
     "output_type": "execute_result"
    }
   ],
   "source": [
    "X = np.array(df[x].tolist()).reshape(len(df[x]),1)\n",
    "Y = np.array(df[y].tolist()).reshape(len(df[y]),1)\n",
    "X, Y"
   ]
  },
  {
   "cell_type": "code",
   "execution_count": 12,
   "metadata": {},
   "outputs": [
    {
     "data": {
      "text/plain": [
       "array([[444.17735732],\n",
       "       [  2.62053888]])"
      ]
     },
     "execution_count": 12,
     "metadata": {},
     "output_type": "execute_result"
    }
   ],
   "source": [
    "# нахождение a и b матричным способом (для проверки предыдущих результатов)\n",
    "X_a = np.hstack([np.ones((len(X), 1)), X])\n",
    "np.dot(np.linalg.inv(np.dot(X_a.T, X_a)), X_a.T@Y)"
   ]
  },
  {
   "cell_type": "code",
   "execution_count": 13,
   "metadata": {},
   "outputs": [
    {
     "data": {
      "text/plain": [
       "5.889820420132688"
      ]
     },
     "execution_count": 13,
     "metadata": {},
     "output_type": "execute_result"
    }
   ],
   "source": [
    "B = np.dot(np.linalg.inv(np.dot(X.T, X)), X.T@Y)\n",
    "B = np.squeeze(B)[()]\n",
    "B"
   ]
  },
  {
   "cell_type": "code",
   "execution_count": 14,
   "metadata": {},
   "outputs": [
    {
     "name": "stdout",
     "output_type": "stream",
     "text": [
      "Object `plt.plot()` not found.\n"
     ]
    }
   ],
   "source": [
    "?plt.plot()"
   ]
  },
  {
   "cell_type": "code",
   "execution_count": 15,
   "metadata": {},
   "outputs": [
    {
     "data": {
      "image/png": "[encoded data removed]",
      "text/plain": [
       "<Figure size 432x288 with 1 Axes>"
      ]
     },
     "metadata": {},
     "output_type": "display_data"
    },
    {
     "data": {
      "text/html": [
       "<div>\n",
       "<style scoped>\n",
       "    .dataframe tbody tr th:only-of-type {\n",
       "        vertical-align: middle;\n",
       "    }\n",
       "\n",
       "    .dataframe tbody tr th {\n",
       "        vertical-align: top;\n",
       "    }\n",
       "\n",
       "    .dataframe thead th {\n",
       "        text-align: right;\n",
       "    }\n",
       "</style>\n",
       "<table border=\"1\" class=\"dataframe\">\n",
       "  <thead>\n",
       "    <tr style=\"text-align: right;\">\n",
       "      <th></th>\n",
       "      <th>Зарплата</th>\n",
       "      <th>Кредитный рейтинг</th>\n",
       "      <th>Кредитный рейтинг_средний</th>\n",
       "      <th>Кредитный рейтинг_средний без a</th>\n",
       "    </tr>\n",
       "  </thead>\n",
       "  <tbody>\n",
       "    <tr>\n",
       "      <th>0</th>\n",
       "      <td>35</td>\n",
       "      <td>401</td>\n",
       "      <td>535.8962</td>\n",
       "      <td>206.1437</td>\n",
       "    </tr>\n",
       "    <tr>\n",
       "      <th>1</th>\n",
       "      <td>45</td>\n",
       "      <td>574</td>\n",
       "      <td>562.1016</td>\n",
       "      <td>265.0419</td>\n",
       "    </tr>\n",
       "    <tr>\n",
       "      <th>2</th>\n",
       "      <td>190</td>\n",
       "      <td>874</td>\n",
       "      <td>942.0797</td>\n",
       "      <td>1119.0659</td>\n",
       "    </tr>\n",
       "    <tr>\n",
       "      <th>3</th>\n",
       "      <td>200</td>\n",
       "      <td>919</td>\n",
       "      <td>968.2851</td>\n",
       "      <td>1177.9641</td>\n",
       "    </tr>\n",
       "    <tr>\n",
       "      <th>4</th>\n",
       "      <td>40</td>\n",
       "      <td>459</td>\n",
       "      <td>548.9989</td>\n",
       "      <td>235.5928</td>\n",
       "    </tr>\n",
       "    <tr>\n",
       "      <th>5</th>\n",
       "      <td>70</td>\n",
       "      <td>739</td>\n",
       "      <td>627.6151</td>\n",
       "      <td>412.2874</td>\n",
       "    </tr>\n",
       "    <tr>\n",
       "      <th>6</th>\n",
       "      <td>54</td>\n",
       "      <td>653</td>\n",
       "      <td>585.6865</td>\n",
       "      <td>318.0503</td>\n",
       "    </tr>\n",
       "    <tr>\n",
       "      <th>7</th>\n",
       "      <td>150</td>\n",
       "      <td>902</td>\n",
       "      <td>837.2582</td>\n",
       "      <td>883.4731</td>\n",
       "    </tr>\n",
       "    <tr>\n",
       "      <th>8</th>\n",
       "      <td>120</td>\n",
       "      <td>746</td>\n",
       "      <td>758.6420</td>\n",
       "      <td>706.7785</td>\n",
       "    </tr>\n",
       "    <tr>\n",
       "      <th>9</th>\n",
       "      <td>110</td>\n",
       "      <td>832</td>\n",
       "      <td>732.4366</td>\n",
       "      <td>647.8802</td>\n",
       "    </tr>\n",
       "  </tbody>\n",
       "</table>\n",
       "</div>"
      ],
      "text/plain": [
       "   Зарплата  Кредитный рейтинг  Кредитный рейтинг_средний  \\\n",
       "0        35                401                   535.8962   \n",
       "1        45                574                   562.1016   \n",
       "2       190                874                   942.0797   \n",
       "3       200                919                   968.2851   \n",
       "4        40                459                   548.9989   \n",
       "5        70                739                   627.6151   \n",
       "6        54                653                   585.6865   \n",
       "7       150                902                   837.2582   \n",
       "8       120                746                   758.6420   \n",
       "9       110                832                   732.4366   \n",
       "\n",
       "   Кредитный рейтинг_средний без a  \n",
       "0                         206.1437  \n",
       "1                         265.0419  \n",
       "2                        1119.0659  \n",
       "3                        1177.9641  \n",
       "4                         235.5928  \n",
       "5                         412.2874  \n",
       "6                         318.0503  \n",
       "7                         883.4731  \n",
       "8                         706.7785  \n",
       "9                         647.8802  "
      ]
     },
     "execution_count": 15,
     "metadata": {},
     "output_type": "execute_result"
    }
   ],
   "source": [
    "y_mean_NI = 'Кредитный рейтинг_средний без a'\n",
    "df[y_mean_NI] = B * df[x]\n",
    "plt.scatter(zp, ks)\n",
    "plt.plot(df[x], B * df[x])\n",
    "plt.plot(df[x], df[y_mean], linestyle='--') # предыдущий результат пунктиром\n",
    "plt.show()\n",
    "df"
   ]
  },
  {
   "cell_type": "markdown",
   "metadata": {},
   "source": [
    "***"
   ]
  },
  {
   "cell_type": "markdown",
   "metadata": {},
   "source": [
    "#### 2. Посчитать коэффициент линейной регрессии при заработной плате (zp), используя градиентный спуск (без intercept)."
   ]
  },
  {
   "cell_type": "code",
   "execution_count": 16,
   "metadata": {},
   "outputs": [],
   "source": [
    "# 2. Посчитать коэффициент линейной регрессии при заработной плате\n",
    "# Расчет с помощью градиентного спуска (без intercept).\n",
    "# y = b*x\n",
    "def mse(B1, Y=Y, X=X): # без a\n",
    "    return np.sum((B1*X-Y)**2)/len(X)\n",
    "\n",
    "def mse_derivative(B1, Y=Y, X=X): # без a\n",
    "    return (2/len(X)) * np.sum((B1*X-Y)*X)\n",
    "\n",
    "def gradient(B1=0.1, limit=100, alpha=1e-06):\n",
    "    print_lim = 10**(len(str(limit))-2)\n",
    "    for i in range(limit+1):\n",
    "        B1 -= alpha * mse_derivative(B1)\n",
    "        if i%print_lim == 0:\n",
    "            print(f'iteration={i: <3}, B1={B1: < 25}, mse={mse(B1)}')\n",
    "    return B1"
   ]
  },
  {
   "cell_type": "code",
   "execution_count": 17,
   "metadata": {},
   "outputs": [],
   "source": [
    "X = np.array(df[x].tolist())\n",
    "Y = np.array(df[y].tolist())"
   ]
  },
  {
   "cell_type": "code",
   "execution_count": 18,
   "metadata": {
    "scrolled": false
   },
   "outputs": [
    {
     "name": "stdout",
     "output_type": "stream",
     "text": [
      "iteration=0  , B1= 1.01347302              , mse=384107.3780804722\n",
      "iteration=1000, B1= 5.580916943784742       , mse=57831.44029220713\n",
      "iteration=2000, B1= 5.8702522167480655      , mse=56522.13367677324\n",
      "iteration=3000, B1= 5.8885808271432225      , mse=56516.879584715934\n",
      "iteration=4000, B1= 5.88974189525489        , mse=56516.85850066808\n",
      "iteration=5000, B1= 5.889815445793135       , mse=56516.8584160603\n",
      "iteration=6000, B1= 5.889820105021672       , mse=56516.858415720795\n",
      "iteration=7000, B1= 5.889820400171253       , mse=56516.85841571941\n",
      "iteration=8000, B1= 5.889820418868183       , mse=56516.8584157194\n",
      "iteration=9000, B1= 5.88982042005259        , mse=56516.85841571941\n",
      "iteration=10000, B1= 5.889820420127616       , mse=56516.85841571941\n"
     ]
    }
   ],
   "source": [
    "alpha = 0.0000001 # минимальный шаг в рамках перебора 0.000001\n",
    "limit = 10000\n",
    "B1 = 1 # какую цифру не поставить - результат тот же\n",
    "B1 = gradient(B1, limit, alpha)"
   ]
  },
  {
   "cell_type": "code",
   "execution_count": 19,
   "metadata": {
    "scrolled": true
   },
   "outputs": [
    {
     "name": "stdout",
     "output_type": "stream",
     "text": [
      "Значение из предыдущей задачи: 5.8898 равно значению, полученному в рамках градиентного спуска: 5.8898\n"
     ]
    }
   ],
   "source": [
    "print(f'Значение из предыдущей задачи: {round(B, 4)} равно значению, \\\n",
    "полученному в рамках градиентного спуска: {round(B1, 4)}')"
   ]
  },
  {
   "cell_type": "code",
   "execution_count": 20,
   "metadata": {},
   "outputs": [
    {
     "data": {
      "text/html": [
       "<div>\n",
       "<style scoped>\n",
       "    .dataframe tbody tr th:only-of-type {\n",
       "        vertical-align: middle;\n",
       "    }\n",
       "\n",
       "    .dataframe tbody tr th {\n",
       "        vertical-align: top;\n",
       "    }\n",
       "\n",
       "    .dataframe thead th {\n",
       "        text-align: right;\n",
       "    }\n",
       "</style>\n",
       "<table border=\"1\" class=\"dataframe\">\n",
       "  <thead>\n",
       "    <tr style=\"text-align: right;\">\n",
       "      <th></th>\n",
       "      <th>Зарплата</th>\n",
       "      <th>Кредитный рейтинг</th>\n",
       "    </tr>\n",
       "  </thead>\n",
       "  <tbody>\n",
       "    <tr>\n",
       "      <th>Зарплата</th>\n",
       "      <td>1.0000</td>\n",
       "      <td>0.8875</td>\n",
       "    </tr>\n",
       "    <tr>\n",
       "      <th>Кредитный рейтинг</th>\n",
       "      <td>0.8875</td>\n",
       "      <td>1.0000</td>\n",
       "    </tr>\n",
       "  </tbody>\n",
       "</table>\n",
       "</div>"
      ],
      "text/plain": [
       "                   Зарплата  Кредитный рейтинг\n",
       "Зарплата             1.0000             0.8875\n",
       "Кредитный рейтинг    0.8875             1.0000"
      ]
     },
     "execution_count": 20,
     "metadata": {},
     "output_type": "execute_result"
    }
   ],
   "source": [
    "df_corr = df[[x,y]].corr()\n",
    "df_corr"
   ]
  },
  {
   "cell_type": "code",
   "execution_count": 21,
   "metadata": {},
   "outputs": [
    {
     "name": "stdout",
     "output_type": "stream",
     "text": [
      "Коэффициент корреляции corr = 0.8874900920739162 -- сила линейной зависимости зарплаты и кредитного рейтинга.\n",
      "Коэффициент детерминации R2 = 0.7876386635293682 -- столько процентов изменчивости описывает выбранная матмодель.\n"
     ]
    }
   ],
   "source": [
    "corr = df_corr.loc['Зарплата',y]\n",
    "R2 = corr**2\n",
    "print(f'Коэффициент корреляции corr = {corr} -- сила линейной зависимости зарплаты и кредитного рейтинга.\\nКоэффициент детерминации R2 = {R2} -- столько процентов изменчивости описывает выбранная матмодель.')"
   ]
  },
  {
   "cell_type": "markdown",
   "metadata": {},
   "source": [
    "***"
   ]
  },
  {
   "cell_type": "markdown",
   "metadata": {},
   "source": [
    "#### 3. В каких случаях для вычисления доверительных интервалов и проверки статистических гипотез используется таблица значений функции Лапласа, а в каких - таблица критических точек распределения Стьюдента? "
   ]
  },
  {
   "cell_type": "markdown",
   "metadata": {},
   "source": [
    "Таблица Лапласа используется когда известно среднее квадратичное отклонение геенеральной совокупности. В случае, если среднее квадратичное отклонение неизвестно -- используется таблица критических точек распределения Стьюдента. Для применения t-критерия Стьюдента необходимо, чтобы исходные данные имели нормальное распределение и дисперсия неизвестна."
   ]
  },
  {
   "cell_type": "markdown",
   "metadata": {},
   "source": [
    "***"
   ]
  },
  {
   "cell_type": "markdown",
   "metadata": {},
   "source": [
    "#### 4. Произвести вычисления как в пункте 2, но с вычислением intercept. Учесть, что изменение коэффициентов должно производиться на каждом шаге одновременно (то есть изменение одного коэффициента не должно влиять на изменение другого во время одной итерации)."
   ]
  },
  {
   "cell_type": "code",
   "execution_count": 22,
   "metadata": {},
   "outputs": [],
   "source": [
    "def mse_a(B0, B1, Y=Y, X=X): # с a\n",
    "    return np.sum((B0 + B1*X - Y)**2)/len(X)\n",
    "\n",
    "def mse_derivative_a(B0, B1, Y=Y, X=X, type_a_b='b'): # c a\n",
    "    if type_a_b == 'a':  # производная для B0\n",
    "        return (2/len(X)) * np.sum((B0 + B1*X - Y))\n",
    "    else:               # производная для B1\n",
    "        return (2/len(X)) * np.sum((B0 + B1*X - Y) * X)\n",
    "\n",
    "def gradient_a(B0= 0.1, B1=0.1, limit=100, alpha=1e-06): # c a\n",
    "    print_lim = 10**(len(str(limit))-2)\n",
    "    for i in range(limit+1):\n",
    "        B0_current = B0\n",
    "        B0 -= alpha * mse_derivative_a(B0_current, B1, type_a_b='a')\n",
    "        B1 -= alpha * mse_derivative_a(B0_current, B1)\n",
    "        if i%print_lim == 0:\n",
    "            print(f'iteration={i: <6}||| B0={B0: <25}||| B1={B1: <25}||| mse={mse_a(B0,B1)}')\n",
    "    return B0, B1"
   ]
  },
  {
   "cell_type": "code",
   "execution_count": 23,
   "metadata": {},
   "outputs": [
    {
     "name": "stdout",
     "output_type": "stream",
     "text": [
      "iteration=0    ||| B0= 0.1139932               ||| B1= 1.6950780000000003      ||| mse=298805.38996099564\n",
      "iteration=100000||| B0= 176.8178756872003       ||| B1= 4.588422873669245       ||| mse=24602.65909964911\n",
      "iteration=200000||| B0= 283.1956881772298       ||| B1= 3.805435141410038       ||| mse=13044.16516084747\n",
      "iteration=300000||| B0= 347.24756959921285      ||| B1= 3.333984975180734       ||| mse=8853.693377127487\n",
      "iteration=400000||| B0= 385.81429152799836      ||| B1= 3.0501168504576253      ||| mse=7334.45965488598\n",
      "iteration=500000||| B0= 409.0359675710964       ||| B1= 2.8791950478876815      ||| mse=6783.669380682817\n",
      "iteration=600000||| B0= 423.0181317603773       ||| B1= 2.77628013758468        ||| mse=6583.983235150707\n",
      "iteration=700000||| B0= 431.43702947702633      ||| B1= 2.7143133281816474      ||| mse=6511.588063004361\n",
      "iteration=800000||| B0= 436.50619028818244      ||| B1= 2.677002063406801       ||| mse=6485.341570358934\n",
      "iteration=900000||| B0= 439.55841781180436      ||| B1= 2.6545363193656377      ||| mse=6475.8260411356305\n",
      "iteration=1000000||| B0= 441.396215664944        ||| B1= 2.6410093146294247      ||| mse=6472.376235570253\n",
      "iteration=1100000||| B0= 442.502784858385        ||| B1= 2.632864476123355       ||| mse=6471.125526528265\n",
      "iteration=1200000||| B0= 443.1690688992334       ||| B1= 2.6279603310016144      ||| mse=6470.672088478478\n",
      "iteration=1300000||| B0= 443.57024979758313      ||| B1= 2.625007462217497       ||| mse=6470.507696874921\n",
      "iteration=1400000||| B0= 443.8118076067508       ||| B1= 2.62322948994318        ||| mse=6470.4480975551605\n",
      "iteration=1500000||| B0= 443.95725365219454      ||| B1= 2.6221589427433236      ||| mse=6470.4264901321585\n",
      "iteration=1600000||| B0= 444.04482917793496      ||| B1= 2.62151434815451        ||| mse=6470.418656473473\n",
      "iteration=1700000||| B0= 444.0975598842706       ||| B1= 2.6211262268422955      ||| mse=6470.415816421316\n",
      "iteration=1800000||| B0= 444.1293099350496       ||| B1= 2.620892532431058       ||| mse=6470.414786775198\n",
      "iteration=1900000||| B0= 444.1484271780215       ||| B1= 2.6207518210705665      ||| mse=6470.414413482361\n",
      "iteration=2000000||| B0= 444.1599379935946       ||| B1= 2.620667096378724       ||| mse=6470.414278146984\n",
      "iteration=2100000||| B0= 444.16686885047375      ||| B1= 2.620616082207786       ||| mse=6470.414229081852\n",
      "iteration=2200000||| B0= 444.1710420367028       ||| B1= 2.6205853657120683      ||| mse=6470.4142112935415\n",
      "iteration=2300000||| B0= 444.17355478276994      ||| B1= 2.6205668707900656      ||| mse=6470.414204844484\n",
      "iteration=2400000||| B0= 444.17506774970946      ||| B1= 2.6205557346844697      ||| mse=6470.414202506412\n",
      "iteration=2500000||| B0= 444.1759787327175       ||| B1= 2.6205490294467615      ||| mse=6470.414201658753\n",
      "iteration=2600000||| B0= 444.176527251001        ||| B1= 2.6205449921096813      ||| mse=6470.414201351438\n",
      "iteration=2700000||| B0= 444.17685752314003      ||| B1= 2.620542561160716       ||| mse=6470.414201240024\n",
      "iteration=2800000||| B0= 444.1770563855869       ||| B1= 2.620541097445185       ||| mse=6470.4142011996355\n",
      "iteration=2900000||| B0= 444.1771761240292       ||| B1= 2.6205402161173104      ||| mse=6470.414201184993\n",
      "iteration=3000000||| B0= 444.17724822057295      ||| B1= 2.6205396854548724      ||| mse=6470.414201179678\n"
     ]
    }
   ],
   "source": [
    "alpha = 0.00001 # минимальный шаг в рамках перебора 0.000001\n",
    "limit = 3000000\n",
    "B1 = 0.1\n",
    "B0 = 0.1\n",
    "B0, B1 = gradient_a(B0, B1, limit, alpha)"
   ]
  },
  {
   "cell_type": "code",
   "execution_count": 29,
   "metadata": {},
   "outputs": [
    {
     "name": "stdout",
     "output_type": "stream",
     "text": [
      "Значения из 1.1 задачи:\n",
      "a = 444.1774, b = 2.6205\n",
      "соответствует значению,полученному в рамках градиентного спуска:\n",
      "a = 444.1772, b = 2.6205\n"
     ]
    }
   ],
   "source": [
    "print(f'Значения из 1.1 задачи:\\na = {round(a, 4)}, b = {round(b,4)}\\nсоответствует значению,\\\n",
    "полученному в рамках градиентного спуска:\\na = {round(B0, 4)}, b = {round(B1, 4)}')"
   ]
  }
 ],
 "metadata": {
  "kernelspec": {
   "display_name": "Python 3",
   "language": "python",
   "name": "python3"
  },
  "language_info": {
   "codemirror_mode": {
    "name": "ipython",
    "version": 3
   },
   "file_extension": ".py",
   "mimetype": "text/x-python",
   "name": "python",
   "nbconvert_exporter": "python",
   "pygments_lexer": "ipython3",
   "version": "3.8.5"
  }
 },
 "nbformat": 4,
 "nbformat_minor": 4
}
