{
 "cells": [
  {
   "cell_type": "code",
   "execution_count": 1,
   "metadata": {},
   "outputs": [],
   "source": [
    "import numpy as np\n",
    "import pandas as pd\n",
    "import matplotlib.pyplot as plt"
   ]
  },
  {
   "cell_type": "code",
   "execution_count": 2,
   "metadata": {},
   "outputs": [],
   "source": [
    "# old funcs\n",
    "import seaborn as sns\n",
    "import math\n",
    "from scipy.stats import norm, t  # таблица накопленного нормраспределения z\n",
    "sns.set_theme()\n",
    "\n",
    "# стандартные параметры нормального распределения\n",
    "def norm_mu_func(lst): \n",
    "    return sum(lst) / len(lst)\n",
    "\n",
    "def norm_dispersion_func(data):\n",
    "    mean = norm_mu_func(data)\n",
    "    d_sum = 0\n",
    "    for i in data:\n",
    "        d_sum = d_sum + (mean - i)**2\n",
    "    return d_sum / len(data)\n",
    "\n",
    "def norm_sigma_func(data):\n",
    "    return norm_dispersion_func(data)**0.5\n",
    "\n",
    "def norm_dist_graph(data, X=None):\n",
    "    M = norm_mu_func(data)\n",
    "    sigma = norm_sigma_func(data)\n",
    "    y = lambda data: list(map(lambda x: \\\n",
    "               math.e**(-((x-M)**2)/(2*sigma**2)) / (sigma  * (2*math.pi)**0.5), \\\n",
    "               data))\n",
    "    if X:\n",
    "        return y([X])\n",
    "    else:\n",
    "        plt = sns.lineplot(x=data, y=y(data))\n",
    "        plt.axvline(M)\n",
    "        plt.axvline(M-sigma)\n",
    "        plt.axvline(M+sigma)\n",
    "\n",
    "def norm_get_z(to_find, sigma, M):\n",
    "    return (to_find - M) / sigma\n",
    "\n",
    "def norm_z_to_probability(z):\n",
    "    '''\n",
    "    вытащить значение из таблицы накопленного нормального распредееления по z\n",
    "    '''\n",
    "    return norm.cdf(z)\n",
    "\n",
    "\n",
    "# стандартные параметры равномерного распределения\n",
    "def ravn_mu_func(data): \n",
    "    return (max(data)+min(data))/2\n",
    "\n",
    "def ravn_dispersion_func(data):\n",
    "    return (max(data)-min(data))**2 / 12\n",
    "\n",
    "def ravn_sigma_func(data):\n",
    "    return ravn_dispersion_func(data)**0.5\n",
    "\n",
    "def ravn_dist_graph(data, X=None):\n",
    "    M = ravn_mu_func(data)\n",
    "    sigma = ravn_sigma_func(data)\n",
    "    a = min(data)\n",
    "    b = max(data)\n",
    "    y = lambda data: list(map(lambda x: \\\n",
    "                              (x-a) / (b-a), \\\n",
    "                              data))\n",
    "    for ind, i in enumerate(y(data)):\n",
    "        if i < 0:\n",
    "            y[ind] = 0\n",
    "        if i > 1:\n",
    "            y[ind] = 1\n",
    "    if X:\n",
    "        return y([X])\n",
    "    else:\n",
    "        return sns.lineplot(x=x, y=y(x))\n",
    "\n",
    "def z_criteriy(M, a, sigma, n):\n",
    "    Z = -norm.ppf(a / 2)\n",
    "    interval = Z * (sigma / n**0.5)\n",
    "    return [M - interval, M + interval]\n",
    "\n",
    "\n",
    "def t_criteriy(data, M, a, n):\n",
    "    '''критерий-стьюдента'''\n",
    "    T = -t.ppf(a / 2, df=n-1)\n",
    "    sigma = np.std(data, ddof=1) # несмещенная сигма (n-1)\n",
    "    interval = T * (sigma / n**0.5)\n",
    "    return [M - interval, M + interval]\n",
    "\n"
   ]
  },
  {
   "cell_type": "markdown",
   "metadata": {},
   "source": [
    "# (1)\n",
    "Даны значения величины заработной платы заемщиков банка (zp) и значения их поведенческого кредитного скоринга (ks):  \n",
    "zp = [35, 45, 190, 200, 40, 70, 54, 150, 120, 110],  \n",
    "ks = [401, 574, 874, 919, 459, 739, 653, 902, 746, 832].  \n",
    "* Найдите ковариацию этих двух величин с помощью элементарных действий, а затем с помощью функции cov из numpy. Полученные значения должны быть равны.  \n",
    "* Найдите коэффициент корреляции Пирсона с помощью ковариации и среднеквадратичных отклонений двух признаков, а затем с использованием функций из библиотек numpy и pandas."
   ]
  },
  {
   "cell_type": "code",
   "execution_count": 3,
   "metadata": {},
   "outputs": [
    {
     "data": {
      "text/html": [
       "<div>\n",
       "<style scoped>\n",
       "    .dataframe tbody tr th:only-of-type {\n",
       "        vertical-align: middle;\n",
       "    }\n",
       "\n",
       "    .dataframe tbody tr th {\n",
       "        vertical-align: top;\n",
       "    }\n",
       "\n",
       "    .dataframe thead th {\n",
       "        text-align: right;\n",
       "    }\n",
       "</style>\n",
       "<table border=\"1\" class=\"dataframe\">\n",
       "  <thead>\n",
       "    <tr style=\"text-align: right;\">\n",
       "      <th></th>\n",
       "      <th>Зарплата</th>\n",
       "      <th>Кредитный рейтинг</th>\n",
       "    </tr>\n",
       "  </thead>\n",
       "  <tbody>\n",
       "    <tr>\n",
       "      <th>0</th>\n",
       "      <td>35</td>\n",
       "      <td>401</td>\n",
       "    </tr>\n",
       "    <tr>\n",
       "      <th>1</th>\n",
       "      <td>45</td>\n",
       "      <td>574</td>\n",
       "    </tr>\n",
       "    <tr>\n",
       "      <th>2</th>\n",
       "      <td>190</td>\n",
       "      <td>874</td>\n",
       "    </tr>\n",
       "    <tr>\n",
       "      <th>3</th>\n",
       "      <td>200</td>\n",
       "      <td>919</td>\n",
       "    </tr>\n",
       "    <tr>\n",
       "      <th>4</th>\n",
       "      <td>40</td>\n",
       "      <td>459</td>\n",
       "    </tr>\n",
       "    <tr>\n",
       "      <th>5</th>\n",
       "      <td>70</td>\n",
       "      <td>739</td>\n",
       "    </tr>\n",
       "    <tr>\n",
       "      <th>6</th>\n",
       "      <td>54</td>\n",
       "      <td>653</td>\n",
       "    </tr>\n",
       "    <tr>\n",
       "      <th>7</th>\n",
       "      <td>150</td>\n",
       "      <td>902</td>\n",
       "    </tr>\n",
       "    <tr>\n",
       "      <th>8</th>\n",
       "      <td>120</td>\n",
       "      <td>746</td>\n",
       "    </tr>\n",
       "    <tr>\n",
       "      <th>9</th>\n",
       "      <td>110</td>\n",
       "      <td>832</td>\n",
       "    </tr>\n",
       "  </tbody>\n",
       "</table>\n",
       "</div>"
      ],
      "text/plain": [
       "   Зарплата  Кредитный рейтинг\n",
       "0        35                401\n",
       "1        45                574\n",
       "2       190                874\n",
       "3       200                919\n",
       "4        40                459\n",
       "5        70                739\n",
       "6        54                653\n",
       "7       150                902\n",
       "8       120                746\n",
       "9       110                832"
      ]
     },
     "execution_count": 3,
     "metadata": {},
     "output_type": "execute_result"
    }
   ],
   "source": [
    "zp = [35, 45, 190, 200, 40, 70, 54, 150, 120, 110]\n",
    "ks = [401, 574, 874, 919, 459, 739, 653, 902, 746, 832]\n",
    "df = pd.DataFrame.from_dict(dict(zip(zp, ks)), orient='index')\n",
    "df = df.reset_index()\n",
    "df.columns  = ['Зарплата', 'Кредитный рейтинг']\n",
    "df"
   ]
  },
  {
   "cell_type": "code",
   "execution_count": 4,
   "metadata": {},
   "outputs": [
    {
     "data": {
      "image/png": "[encoded data removed]",
      "text/plain": [
       "<Figure size 432x288 with 1 Axes>"
      ]
     },
     "metadata": {},
     "output_type": "display_data"
    }
   ],
   "source": [
    "plt.scatter(zp, ks)\n",
    "plt.show()"
   ]
  },
  {
   "cell_type": "markdown",
   "metadata": {},
   "source": [
    "находим ковариацию\n",
    "$$cov_{XY} = M[(X - M(X))(Y - M(Y))] = M(XY) - M(X)M(Y)=\\overline{X \\cdot Y} - \\overline{X} \\cdot \\overline{Y}$$"
   ]
  },
  {
   "cell_type": "code",
   "execution_count": 5,
   "metadata": {},
   "outputs": [
    {
     "data": {
      "text/plain": [
       "9157.839999999997"
      ]
     },
     "execution_count": 5,
     "metadata": {},
     "output_type": "execute_result"
    }
   ],
   "source": [
    "# расчет по формуле\n",
    "first = df['Зарплата']*df['Кредитный рейтинг']\n",
    "first_mean = first.describe()[1]\n",
    "zp_mean = df['Зарплата'].describe()[1]\n",
    "ks_mean = df['Кредитный рейтинг'].describe()[1]\n",
    "second_mean = zp_mean * ks_mean\n",
    "cov = first_mean - second_mean\n",
    "cov"
   ]
  },
  {
   "cell_type": "code",
   "execution_count": 6,
   "metadata": {},
   "outputs": [
    {
     "data": {
      "text/plain": [
       "array([[ 3494.64,  9157.84],\n",
       "       [ 9157.84, 30468.89]])"
      ]
     },
     "execution_count": 6,
     "metadata": {},
     "output_type": "execute_result"
    }
   ],
   "source": [
    "# расчет с помощью бибилиотеки numpy\n",
    "np.cov(np.array(zp), np.array(ks), ddof=0)"
   ]
  },
  {
   "cell_type": "code",
   "execution_count": 7,
   "metadata": {},
   "outputs": [],
   "source": [
    "############# корреляция"
   ]
  },
  {
   "cell_type": "markdown",
   "metadata": {},
   "source": [
    "расчет корреляции Пирсона: $$r_{XY} = \\frac{cov_{XY}}{\\sigma_{X}\\sigma_{Y}}$$"
   ]
  },
  {
   "cell_type": "code",
   "execution_count": 8,
   "metadata": {},
   "outputs": [
    {
     "data": {
      "text/plain": [
       "0.8874900920739158"
      ]
     },
     "execution_count": 8,
     "metadata": {},
     "output_type": "execute_result"
    }
   ],
   "source": [
    "corr = cov / (np.array(zp).std()*np.array(ks).std())\n",
    "corr"
   ]
  },
  {
   "cell_type": "code",
   "execution_count": 9,
   "metadata": {},
   "outputs": [
    {
     "data": {
      "text/html": [
       "<div>\n",
       "<style scoped>\n",
       "    .dataframe tbody tr th:only-of-type {\n",
       "        vertical-align: middle;\n",
       "    }\n",
       "\n",
       "    .dataframe tbody tr th {\n",
       "        vertical-align: top;\n",
       "    }\n",
       "\n",
       "    .dataframe thead th {\n",
       "        text-align: right;\n",
       "    }\n",
       "</style>\n",
       "<table border=\"1\" class=\"dataframe\">\n",
       "  <thead>\n",
       "    <tr style=\"text-align: right;\">\n",
       "      <th></th>\n",
       "      <th>Зарплата</th>\n",
       "      <th>Кредитный рейтинг</th>\n",
       "    </tr>\n",
       "  </thead>\n",
       "  <tbody>\n",
       "    <tr>\n",
       "      <th>Зарплата</th>\n",
       "      <td>1.00000</td>\n",
       "      <td>0.88749</td>\n",
       "    </tr>\n",
       "    <tr>\n",
       "      <th>Кредитный рейтинг</th>\n",
       "      <td>0.88749</td>\n",
       "      <td>1.00000</td>\n",
       "    </tr>\n",
       "  </tbody>\n",
       "</table>\n",
       "</div>"
      ],
      "text/plain": [
       "                   Зарплата  Кредитный рейтинг\n",
       "Зарплата            1.00000            0.88749\n",
       "Кредитный рейтинг   0.88749            1.00000"
      ]
     },
     "execution_count": 9,
     "metadata": {},
     "output_type": "execute_result"
    }
   ],
   "source": [
    "# pandas correlation\n",
    "df.corr()"
   ]
  },
  {
   "cell_type": "code",
   "execution_count": 10,
   "metadata": {},
   "outputs": [
    {
     "data": {
      "text/plain": [
       "array([[1.        , 0.88749009],\n",
       "       [0.88749009, 1.        ]])"
      ]
     },
     "execution_count": 10,
     "metadata": {},
     "output_type": "execute_result"
    }
   ],
   "source": [
    "# numpy correlation\n",
    "np.corrcoef(np.array(zp), np.array(ks))"
   ]
  },
  {
   "cell_type": "markdown",
   "metadata": {},
   "source": [
    "# (2)\n",
    "Измерены значения IQ выборки студентов, обучающихся в местных технических вузах:  \n",
    "131, 125, 115, 122, 131, 115, 107, 99, 125, 111.\n",
    "Известно, что в генеральной совокупности IQ распределен нормально.  \n",
    "* Найдите доверительный интервал для математического ожидания с надежностью 0.95."
   ]
  },
  {
   "cell_type": "code",
   "execution_count": 11,
   "metadata": {},
   "outputs": [],
   "source": [
    "iqs = [131, 125, 115, 122, 131, 115, 107, 99, 125, 111]\n",
    "alpha = 1 - 0.95"
   ]
  },
  {
   "cell_type": "code",
   "execution_count": 12,
   "metadata": {},
   "outputs": [
    {
     "data": {
      "image/png": "[encoded data removed]",
      "text/plain": [
       "<Figure size 576x288 with 1 Axes>"
      ]
     },
     "metadata": {},
     "output_type": "display_data"
    }
   ],
   "source": [
    "M = norm_mu_func(iqs)\n",
    "n = len(iqs)\n",
    "sns.set(rc={\"figure.figsize\": (8, 4)})\n",
    "norm_dist_graph(iqs)"
   ]
  },
  {
   "cell_type": "code",
   "execution_count": 13,
   "metadata": {},
   "outputs": [
    {
     "data": {
      "text/plain": [
       "'С 95% вероятностью матожидание находится в интервале [110.55608365158724, 125.64391634841274]'"
      ]
     },
     "execution_count": 13,
     "metadata": {},
     "output_type": "execute_result"
    }
   ],
   "source": [
    "# так как ср.кв. отклонение неизвестно, используем критерий стьюдента\n",
    "f'С 95% вероятностью матожидание находится в интервале {t_criteriy(iqs, M, alpha, n)}'"
   ]
  },
  {
   "cell_type": "markdown",
   "metadata": {},
   "source": [
    "# (3)\n",
    "Известно, что рост футболистов в сборной распределен нормально с дисперсией генеральной совокупности, равной 25 кв.см.  \n",
    "Объем выборки равен 27, среднее выборочное составляет 174.2.\n",
    "* Найдите доверительный интервал для математического ожидания с надежностью 0.95."
   ]
  },
  {
   "cell_type": "code",
   "execution_count": 14,
   "metadata": {},
   "outputs": [],
   "source": [
    "D = 25\n",
    "n = 27\n",
    "m = 174.2\n",
    "alpha = 1 - 0.95"
   ]
  },
  {
   "cell_type": "code",
   "execution_count": 15,
   "metadata": {},
   "outputs": [
    {
     "data": {
      "text/plain": [
       "'С 95% вероятностью матожидание находится в интервале [172.3140237765397, 176.08597622346028]'"
      ]
     },
     "execution_count": 15,
     "metadata": {},
     "output_type": "execute_result"
    }
   ],
   "source": [
    "# ср.кв. отклонение известно, используем z-критерий\n",
    "f'С 95% вероятностью матожидание находится в интервале {z_criteriy(m, alpha, D**0.5, n)}'"
   ]
  }
 ],
 "metadata": {
  "kernelspec": {
   "display_name": "Python 3",
   "language": "python",
   "name": "python3"
  },
  "language_info": {
   "codemirror_mode": {
    "name": "ipython",
    "version": 3
   },
   "file_extension": ".py",
   "mimetype": "text/x-python",
   "name": "python",
   "nbconvert_exporter": "python",
   "pygments_lexer": "ipython3",
   "version": "3.8.5"
  }
 },
 "nbformat": 4,
 "nbformat_minor": 4
}
