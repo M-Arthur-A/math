{
 "cells": [
  {
   "cell_type": "code",
   "execution_count": 12,
   "metadata": {},
   "outputs": [],
   "source": [
    "from math import factorial, e\n",
    "def combinations(n, k):\n",
    "    return int(factorial(n) / (factorial(k) * factorial(n - k)))"
   ]
  },
  {
   "cell_type": "markdown",
   "metadata": {},
   "source": [
    "# 1. Вероятность того, что стрелок попадет в мишень, выстрелив один раз, равна 0.8. Стрелок выстрелил 100 раз. Найдите вероятность того, что стрелок попадет в цель ровно 85 раз."
   ]
  },
  {
   "cell_type": "code",
   "execution_count": 7,
   "metadata": {},
   "outputs": [
    {
     "data": {
      "text/plain": [
       "0.048061793700746355"
      ]
     },
     "execution_count": 7,
     "metadata": {},
     "output_type": "execute_result"
    }
   ],
   "source": [
    "# Задача на биноминальное распределение: Pn(X=k) = Cn^k * p^k * q^(n-k)\n",
    "k = 85 # удачных событий\n",
    "n = 100 # всего\n",
    "p = 0.8 # вероятность\n",
    "q = 1 - p # обратная вероятность\n",
    "combinations(n,k) * p**k * q**(n-k)"
   ]
  },
  {
   "cell_type": "markdown",
   "metadata": {},
   "source": [
    "# 2. Вероятность того, что лампочка перегорит в течение первого дня эксплуатации, равна 0.0004. В жилом комплексе после ремонта в один день включили 5000 новых лампочек.  \n",
    "## 2.1) Какова вероятность, что ни одна из них не перегорит в первый день? \n",
    "## 2.2) Какова вероятность, что перегорят ровно две?"
   ]
  },
  {
   "cell_type": "code",
   "execution_count": 10,
   "metadata": {},
   "outputs": [],
   "source": [
    "# низкие вероятности при высоком количестве испытаний -- распределение Пуассона\n",
    "# показывает вероятность числа насмтупления события А за фиксированную единицу измерения\n",
    "# ((p*n)^k / k!) * e^-(p*n)\n",
    "p = 0.0004\n",
    "n = 5000"
   ]
  },
  {
   "cell_type": "code",
   "execution_count": 15,
   "metadata": {},
   "outputs": [
    {
     "data": {
      "text/plain": [
       "0.1353352832366127"
      ]
     },
     "execution_count": 15,
     "metadata": {},
     "output_type": "execute_result"
    }
   ],
   "source": [
    "# 2.1\n",
    "k = 0\n",
    "((p*n)**k / factorial(k)) * e**(-(p*n))"
   ]
  },
  {
   "cell_type": "code",
   "execution_count": 16,
   "metadata": {},
   "outputs": [
    {
     "data": {
      "text/plain": [
       "0.2706705664732254"
      ]
     },
     "execution_count": 16,
     "metadata": {},
     "output_type": "execute_result"
    }
   ],
   "source": [
    "# 2.2\n",
    "k = 2\n",
    "((p*n)**k / factorial(k)) * e**(-(p*n))"
   ]
  },
  {
   "cell_type": "markdown",
   "metadata": {},
   "source": [
    "# 3. Монету подбросили 144 раза. Какова вероятность, что орел выпадет ровно 70 раз?"
   ]
  },
  {
   "cell_type": "code",
   "execution_count": 17,
   "metadata": {},
   "outputs": [
    {
     "data": {
      "text/plain": [
       "0.06281178035144776"
      ]
     },
     "execution_count": 17,
     "metadata": {},
     "output_type": "execute_result"
    }
   ],
   "source": [
    "# Задача на биноминальное распределение: Pn(X=k) = Cn^k * p^k * q^(n-k)\n",
    "k = 70 # удачных событий\n",
    "n = 144 # всего\n",
    "p = 0.5 # вероятность\n",
    "q = 1 - p # обратная вероятность\n",
    "combinations(n,k) * p**k * q**(n-k)"
   ]
  },
  {
   "cell_type": "markdown",
   "metadata": {},
   "source": [
    "# 4. В первом ящике находится 10 мячей, из которых 7 - белые. Во втором ящике - 11 мячей, из которых 9 белых. Из каждого ящика вытаскивают случайным образом по два мяча.\n",
    "## 4.1) Какова вероятность того, что все мячи белые? \n",
    "## 4.2) Какова вероятность того, что ровно два мяча белые? \n",
    "## 4.3) Какова вероятность того, что хотя бы один мяч белый?"
   ]
  },
  {
   "cell_type": "code",
   "execution_count": 31,
   "metadata": {},
   "outputs": [
    {
     "data": {
      "text/plain": [
       "0.3054545454545455"
      ]
     },
     "execution_count": 31,
     "metadata": {},
     "output_type": "execute_result"
    }
   ],
   "source": [
    "# 4.1\n",
    "four_balls = combinations(7, 2) / combinations(10,2) * \\\n",
    "             combinations(9, 2) / combinations(11,2)\n",
    "\n",
    "four_balls"
   ]
  },
  {
   "cell_type": "code",
   "execution_count": 36,
   "metadata": {},
   "outputs": [
    {
     "data": {
      "text/plain": [
       "0.20484848484848486"
      ]
     },
     "execution_count": 36,
     "metadata": {},
     "output_type": "execute_result"
    }
   ],
   "source": [
    "# 4.2\n",
    "wh_left = combinations(7, 2) / combinations(10,2) * \\\n",
    "          combinations(2,2) / combinations(11,2)\n",
    "wh_right = combinations(3, 2) / combinations(10,2) * \\\n",
    "           combinations(9,2) / combinations(11,2)\n",
    "mix = (combinations(7,1)*combinations(3,1)/combinations(10,2)) * \\\n",
    "      (combinations(9,1)*combinations(2,1)/combinations(11,2))\n",
    "two_balls = wh_left + wh_right + mix\n",
    "\n",
    "two_balls"
   ]
  },
  {
   "cell_type": "code",
   "execution_count": 41,
   "metadata": {},
   "outputs": [
    {
     "data": {
      "text/plain": [
       "0.9987878787878788"
      ]
     },
     "execution_count": 41,
     "metadata": {},
     "output_type": "execute_result"
    }
   ],
   "source": [
    "# 4.3\n",
    "one_ball = combinations(7,1)*combinations(3,1)/combinations(10,2) * combinations(2,2)/combinations(11,2) + \\\n",
    "           combinations(3,1)/combinations(10,2)*combinations(9,1)*combinations(2,1)/combinations(11,2)\n",
    "three_balls = (combinations(3,1)/combinations(10,2) * combinations(2,1)/combinations(11,2))\n",
    "three_balls = combinations(7,2)/combinations(10,2)*combinations(9,1)*combinations(2,1)/combinations(11,2) + \\\n",
    "              combinations(3,1)*combinations(7,1)/combinations(10,2)*combinations(9,2)/combinations(11,2)\n",
    "\n",
    "one_ball + two_balls + three_balls + four_balls"
   ]
  }
 ],
 "metadata": {
  "kernelspec": {
   "display_name": "Python 3",
   "language": "python",
   "name": "python3"
  },
  "language_info": {
   "codemirror_mode": {
    "name": "ipython",
    "version": 3
   },
   "file_extension": ".py",
   "mimetype": "text/x-python",
   "name": "python",
   "nbconvert_exporter": "python",
   "pygments_lexer": "ipython3",
   "version": "3.8.5"
  }
 },
 "nbformat": 4,
 "nbformat_minor": 4
}
